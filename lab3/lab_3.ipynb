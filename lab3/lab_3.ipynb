{
   "cells": [
      {
         "cell_type": "markdown",
         "metadata": {},
         "source": [
            "# Sieci neuronowe"
         ]
      },
      {
         "cell_type": "markdown",
         "metadata": {},
         "source": [
            "## Wstęp\n",
            "\n",
            "Celem laboratorium jest zapoznanie się z podstawami sieci neuronowych oraz uczeniem głębokim (*deep learning*). Zapoznasz się na nim z następującymi tematami:\n",
            "- treningiem prostych sieci neuronowych, w szczególności z:\n",
            "  - regresją liniową w sieciach neuronowych\n",
            "  - optymalizacją funkcji kosztu\n",
            "  - algorytmem spadku wzdłuż gradientu\n",
            "  - siecią typu Multilayer Perceptron (MLP)\n",
            "- frameworkiem PyTorch, w szczególności z:\n",
            "  - ładowaniem danych\n",
            "  - preprocessingiem danych\n",
            "  - pisaniem pętli treningowej i walidacyjnej\n",
            "  - walidacją modeli\n",
            "- architekturą i hiperaprametrami sieci MLP, w szczególności z:\n",
            "  - warstwami gęstymi (w pełni połączonymi)\n",
            "  - funkcjami aktywacji\n",
            "  - regularyzacją: L2, dropout"
         ]
      },
      {
         "cell_type": "markdown",
         "metadata": {},
         "source": [
            "## Wykorzystywane biblioteki\n",
            "\n",
            "Zaczniemy od pisania ręcznie prostych sieci w bibliotece Numpy, służącej do obliczeń numerycznych na CPU. Później przejdziemy do wykorzystywania frameworka PyTorch, służącego do obliczeń numerycznych na CPU, GPU oraz automatycznego różniczkowania, wykorzystywanego głównie do treningu sieci neuronowych.\n",
            "\n",
            "Wykorzystamy PyTorcha ze względu na popularność, łatwość instalacji i użycia, oraz dużą kontrolę nad niskopoziomowymi aspektami budowy i treningu sieci neuronowych. Framework ten został stworzony do zastosowań badawczych i naukowych, ale ze względu na wygodę użycia stał się bardzo popularny także w przemyśle. W szczególności całkowicie zdominował przetwarzanie języka naturalnego (NLP) oraz uczenie na grafach.\n",
            "\n",
            "Pierwszy duży framework do deep learningu, oraz obecnie najpopularniejszy, to TensorFlow, wraz z wysokopoziomową nakładką Keras. Są jednak szanse, że Google (autorzy) będzie go powoli porzucać na rzecz ich nowego frameworka JAX ([dyskusja](https://www.reddit.com/r/MachineLearning/comments/vfl57t/d_google_quietly_moving_its_products_from/), [artykuł Business Insidera](https://www.businessinsider.com/facebook-pytorch-beat-google-tensorflow-jax-meta-ai-2022-6?IR=T)), który jest bardzo świeżym, ale ciekawym narzędziem.\n",
            "\n",
            "Trzecia, ale znacznie mniej popularna od powyższych opcja to Apache MXNet."
         ]
      },
      {
         "cell_type": "markdown",
         "metadata": {},
         "source": [
            "## Konfiguracja własnego komputera\n",
            "\n",
            "Jeżeli korzystasz z własnego komputera, to musisz zainstalować trochę więcej bibliotek (Google Colab ma je już zainstalowane).\n",
            "\n",
            "Jeżeli nie masz GPU lub nie chcesz z niego korzystać, to wystarczy znaleźć odpowiednią komendę CPU [na stronie PyTorcha](https://pytorch.org/get-started/locally/). Dla Anacondy odpowiednia komenda została podana poniżej, dla pip'a znajdź ją na stronie.\n",
            "\n",
            "Jeżeli chcesz korzystać ze wsparcia GPU (na tym laboratorium nie będzie potrzebne, na kolejnych może przyspieszyć nieco obliczenia), to musi być to odpowiednio nowa karta NVidii, mająca CUDA compatibility ([lista](https://developer.nvidia.com/cuda-gpus)). Poza PyTorchem będzie potrzebne narzędzie NVidia CUDA w wersji 11.6 lub 11.7. Instalacja na Windowsie jest bardzo prosta (wystarczy ściągnąć plik EXE i zainstalować jak każdy inny program). Instalacja na Linuxie jest trudna i można względnie łatwo zepsuć sobie system, ale jeżeli chcesz spróbować, to [ten tutorial](https://www.youtube.com/results?search_query=nvidia+cuda+install+ubuntu+20.04) jest bardzo dobry."
         ]
      },
      {
         "cell_type": "code",
         "execution_count": 1,
         "metadata": {},
         "outputs": [],
         "source": [
            "# for conda users\n",
            "# !conda install -y matplotlib pandas pytorch torchvision -c pytorch -c conda-forge\n",
            "# !pip3 install torch torchvision torchaudio --index-url https://download.pytorch.org/whl/cu118"
         ]
      },
      {
         "cell_type": "markdown",
         "metadata": {
            "id": "Othm3C2lLAsj"
         },
         "source": [
            "## Wprowadzenie\n",
            "\n",
            "Zanim zaczniemy naszą przygodę z sieciami neuronowymi, przyjrzyjmy się prostemu przykładowi regresji liniowej na syntetycznych danych:"
         ]
      },
      {
         "cell_type": "code",
         "execution_count": 2,
         "metadata": {
            "id": "rnJsfxbnLAsj"
         },
         "outputs": [],
         "source": [
            "from typing import Tuple, Dict\n",
            "\n",
            "import numpy as np\n",
            "import matplotlib.pyplot as plt"
         ]
      },
      {
         "cell_type": "code",
         "execution_count": 3,
         "metadata": {
            "colab": {
               "base_uri": "https://localhost:8080/",
               "height": 282
            },
            "id": "EaYpEXzBLAsl",
            "outputId": "2f8d2922-72f0-4d38-8548-d1262adf522e"
         },
         "outputs": [
            {
               "data": {
                  "text/plain": [
                     "<matplotlib.collections.PathCollection at 0x25a34aceb60>"
                  ]
               },
               "execution_count": 3,
               "metadata": {},
               "output_type": "execute_result"
            },
            {
               "data": {
                  "image/png": "[encoded data removed]",
                  "text/plain": [
                     "<Figure size 640x480 with 1 Axes>"
                  ]
               },
               "metadata": {},
               "output_type": "display_data"
            }
         ],
         "source": [
            "np.random.seed(0)\n",
            "\n",
            "x = np.linspace(0, 1, 100)\n",
            "y = x + np.random.normal(scale=0.1, size=x.shape)\n",
            "\n",
            "plt.scatter(x, y)"
         ]
      },
      {
         "cell_type": "markdown",
         "metadata": {
            "id": "PEM_-yKELAsl"
         },
         "source": [
            "W przeciwieństwie do laboratorium 1, tym razem będziemy chcieli rozwiązać ten problem własnoręcznie, bez użycia wysokopoziomowego interfejsu Scikit-learn'a. W tym celu musimy sobie przypomnieć sformułowanie naszego **problemu optymalizacyjnego (optimization problem)**.\n",
            "\n",
            "W przypadku prostej regresji liniowej (1 zmienna) mamy model postaci $\\hat{y} = \\alpha x + \\beta$, z dwoma parametrami, których będziemy się uczyć. Miarą niedopasowania modelu o danych parametrach jest **funkcja kosztu (cost function)**, nazywana też funkcją celu. Najczęściej używa się **błędu średniokwadratowego (mean squared error, MSE)**:\n",
            "$$\\large\n",
            "MSE = \\frac{1}{N} \\sum_{i}^{N} (y - \\hat{y})^2\n",
            "$$\n",
            "\n",
            "Od jakich $\\alpha$ i $\\beta$ zacząć? W najprostszym wypadku wystarczy po prostu je wylosować jako niewielkie liczby zmiennoprzecinkowe.\n",
            "\n",
            "#### Zadanie 1 (0.5 punkt)\n",
            "\n",
            "Uzupełnij kod funkcji `mse`, obliczającej błąd średniokwadratowy. Wykorzystaj Numpy'a w celu wektoryzacji obliczeń dla wydajności."
         ]
      },
      {
         "cell_type": "code",
         "execution_count": 4,
         "metadata": {
            "colab": {
               "base_uri": "https://localhost:8080/"
            },
            "id": "RaA7Q46TLAsm",
            "outputId": "5c57fe58-1934-4d21-9a7b-d14e9a23140b"
         },
         "outputs": [],
         "source": [
            "def mse(y: np.ndarray, y_hat: np.ndarray) -> float:\n",
            "    # implement me!\n",
            "    # your_code\n",
            "    sum = 0\n",
            "    for i in range(len(y)):\n",
            "        sum += (y[i] - y_hat[i])**2\n",
            "    return sum/len(y)"
         ]
      },
      {
         "cell_type": "code",
         "execution_count": 5,
         "metadata": {
            "colab": {
               "base_uri": "https://localhost:8080/",
               "height": 282
            },
            "id": "qSGfamGbLAsm",
            "outputId": "733ce15f-ae75-466b-e7ee-eb3c9d9d534c"
         },
         "outputs": [
            {
               "name": "stdout",
               "output_type": "stream",
               "text": [
                  "MSE: 0.133\n"
               ]
            },
            {
               "data": {
                  "text/plain": [
                     "[<matplotlib.lines.Line2D at 0x25a36d74700>]"
                  ]
               },
               "execution_count": 5,
               "metadata": {},
               "output_type": "execute_result"
            },
            {
               "data": {
                  "image/png": "[encoded data removed]",
                  "text/plain": [
                     "<Figure size 640x480 with 1 Axes>"
                  ]
               },
               "metadata": {},
               "output_type": "display_data"
            }
         ],
         "source": [
            "a = np.random.rand()\n",
            "b = np.random.rand()\n",
            "print(f\"MSE: {mse(y, a * x + b):.3f}\")\n",
            "\n",
            "plt.scatter(x, y)\n",
            "plt.plot(x, a * x + b, color=\"g\", linewidth=4)"
         ]
      },
      {
         "cell_type": "markdown",
         "metadata": {
            "id": "Y--E9Mp9LAsn"
         },
         "source": [
            "Losowe parametry radzą sobie nie najlepiej. Jak lepiej dopasować naszą prostą do danych? Zawsze możemy starać się wyprowadzić rozwiązanie analitycznie, i w tym wypadku nawet nam się uda. Jest to jednak szczególny i dość rzadki przypadek, a w szczególności nie będzie to możliwe w większych sieciach neuronowych.\n",
            "\n",
            "Potrzebna nam będzie **metoda optymalizacji (optimization method)**, dającą wartości parametrów minimalizujące dowolną różniczkowalną funkcję kosztu. Zdecydowanie najpopularniejszy jest tutaj **spadek wzdłuż gradientu (gradient descent)**.\n",
            "\n",
            "Metoda ta wywodzi się z prostych obserwacji, które tutaj przedstawimy. Bardziej szczegółowe rozwinięcie dla zainteresowanych: [sekcja 4.3 \"Deep Learning Book\"](https://www.deeplearningbook.org/contents/numerical.html), [ten praktyczny kurs](https://cs231n.github.io/optimization-1/), [analiza oryginalnej publikacji Cauchy'ego](https://www.math.uni-bielefeld.de/documenta/vol-ismp/40_lemarechal-claude.pdf) (oryginał w języku francuskim).\n",
            "\n",
            "Pochodna jest dokładnie równa granicy funkcji. Dla małego $\\epsilon$ można ją przybliżyć jako:\n",
            "$$\\large\n",
            "\\frac{f(x)}{dx} \\approx \\frac{f(x+\\epsilon) - f(x)}{\\epsilon}\n",
            "$$\n",
            "\n",
            "Przyglądając się temu równaniu widzimy, że: \n",
            "* dla funkcji rosnącej ($f(x+\\epsilon) > f(x)$) wyrażenie $\\frac{f(x)}{dx}$ będzie miało znak dodatni \n",
            "* dla funkcji malejącej ($f(x+\\epsilon) < f(x)$) wyrażenie $\\frac{f(x)}{dx}$ będzie miało znak ujemny \n",
            "\n",
            "Widzimy więc, że potrafimy wskazać kierunek zmniejszenia wartości funkcji, patrząc na znak pochodnej. Zaobserwowano także, że amplituda wartości w $\\frac{f(x)}{dx}$ jest tym większa, im dalej jesteśmy od minimum (maximum). Pochodna wyznacza więc, w jakim kierunku funkcja najszybciej rośnie, zaś przeciwny zwrot to ten, w którym funkcja najszybciej spada.\n",
            "\n",
            "Stosując powyższe do optymalizacji, mamy:\n",
            "$$\\large\n",
            "x_{t+1} = x_{t} -  \\alpha * \\frac{f(x)}{dx}\n",
            "$$\n",
            "\n",
            "$\\alpha$ to niewielka wartość (rzędu zwykle $10^{-5}$ - $10^{-2}$), wprowadzona, aby trzymać się założenia o małej zmianie parametrów ($\\epsilon$). Nazywa się ją **stałą uczącą (learning rate)** i jest zwykle najważniejszym hiperparametrem podczas nauki sieci.\n",
            "\n",
            "Metoda ta zakłada, że używamy całego zbioru danych do aktualizacji parametrów w każdym kroku, co nazywa się po prostu GD (od *gradient descent*) albo *full batch GD*. Wtedy każdy krok optymalizacji nazywa się **epoką (epoch)**.\n",
            "\n",
            "Im większa stała ucząca, tym większe nasze kroki podczas minimalizacji. Możemy więc uczyć szybciej, ale istnieje ryzyko, że będziemy \"przeskakiwać\" minima. Mniejsza stała ucząca to wolniejszy, ale dokładniejszy trening. Jednak nie zawsze ona pozwala osiągnąć lepsze wyniki, bo może okazać się, że utkniemy w minimum lokalnym. Można także zmieniać stałą uczącą podczas treningu, co nazywa się **learning rate scheduling (LR scheduling)**. Obrazowo:\n",
            "\n",
            "![learning_rate](http://www.bdhammel.com/assets/learning-rate/lr-types.png)"
         ]
      },
      {
         "cell_type": "markdown",
         "metadata": {
            "id": "496qEjkVLAso"
         },
         "source": [
            "![interactive LR](http://cdn-images-1.medium.com/max/640/1*eeIvlwkMNG1wSmj3FR6M2g.gif)"
         ]
      },
      {
         "cell_type": "markdown",
         "metadata": {
            "id": "RYkyAHKzLAsp"
         },
         "source": [
            "Policzmy więc pochodną dla naszej funkcji kosztu MSE. Pochodną liczymy po parametrach naszego modelu, bo to właśnie ich chcemy dopasować tak, żeby koszt był jak najmniejszy:\n",
            "\n",
            "$$\\large\n",
            "MSE = \\frac{1}{N} \\sum_{i}^{N} (y_i - \\hat{y_i})^2\n",
            "$$\n",
            "\n",
            "W powyższym wzorze tylko $y_i$ jest zależny od $a$ oraz $b$. Możemy wykorzystać tu regułę łańcuchową (*chain rule*) i policzyć pochodne po naszych parametrach w sposób następujący:\n",
            "\n",
            "$$\\large\n",
            "\\frac{\\text{d} MSE}{\\text{d} a} = \\frac{1}{N} \\sum_{i}^{N} \\frac{\\text{d} (y_i - \\hat{y_i})^2}{\\text{d} \\hat{y_i}} \\frac{\\text{d} \\hat{y_i}}{\\text{d} a}\n",
            "$$\n",
            "\n",
            "$$\\large\n",
            "\\frac{\\text{d} MSE}{\\text{d} b} = \\frac{1}{N} \\sum_{i}^{N} \\frac{\\text{d} (y_i - \\hat{y_i})^2}{\\text{d} \\hat{y_i}} \\frac{\\text{d} \\hat{y_i}}{\\text{d} b}\n",
            "$$\n",
            "\n",
            "Policzmy te pochodne po kolei:\n",
            "\n",
            "$$\\large\n",
            "\\frac{\\text{d} (y_i - \\hat{y_i})^2}{\\text{d} \\hat{y_i}} = -2 \\cdot (y_i - \\hat{y_i})\n",
            "$$\n",
            "\n",
            "$$\\large\n",
            "\\frac{\\text{d} \\hat{y_i}}{\\text{d} a} = x_i\n",
            "$$\n",
            "\n",
            "$$\\large\n",
            "\\frac{\\text{d} \\hat{y_i}}{\\text{d} b} = 1\n",
            "$$\n",
            "\n",
            "Łącząc powyższe wyniki dostaniemy:\n",
            "\n",
            "$$\\large\n",
            "\\frac{\\text{d} MSE}{\\text{d} a} = \\frac{-2}{N} \\sum_{i}^{N} (y_i - \\hat{y_i}) \\cdot {x_i}\n",
            "$$\n",
            "\n",
            "$$\\large\n",
            "\\frac{\\text{d} MSE}{\\text{d} b} = \\frac{-2}{N} \\sum_{i}^{N} (y_i - \\hat{y_i})\n",
            "$$\n",
            "\n",
            "Aktualizacja parametrów wygląda tak:\n",
            "\n",
            "$$\\large\n",
            "a' = a - \\alpha * \\left( \\frac{-2}{N} \\sum_{i=1}^N (y_i - \\hat{y}_i) \\cdot x_i \\right)\n",
            "$$\n",
            "$$\\large\n",
            "b' = b - \\alpha * \\left( \\frac{-2}{N} \\sum_{i=1}^N (y_i - \\hat{y}_i) \\right)\n",
            "$$\n",
            "\n",
            "Liczymy więc pochodną funkcji kosztu, a potem za pomocą reguły łańcuchowej \"cofamy się\", dochodząc do tego, jak każdy z parametrów wpływa na błąd i w jaki sposób powinniśmy go zmienić. Nazywa się to **propagacją wsteczną (backpropagation)** i jest podstawowym mechanizmem umożliwiającym naukę sieci neuronowych za pomocą spadku wzdłuż gradientu. Więcej możesz o tym przeczytać [tutaj](https://cs231n.github.io/optimization-2/)."
         ]
      },
      {
         "cell_type": "markdown",
         "metadata": {},
         "source": [
            "\n",
            "#### Zadanie 2 (1.0 punkt)\n",
            "\n",
            "Zaimplementuj funkcję realizującą jedną epokę treningową. Zauważ, że `x` oraz `y` są wektorami. Oblicz predykcję przy aktualnych parametrach oraz zaktualizuj je zgodnie z powyższymi wzorami."
         ]
      },
      {
         "cell_type": "code",
         "execution_count": 6,
         "metadata": {
            "colab": {
               "base_uri": "https://localhost:8080/"
            },
            "id": "4qbdWOSULAsp",
            "outputId": "055607ae-87aa-470a-e6da-25682c82d470"
         },
         "outputs": [],
         "source": [
            "def optimize(\n",
            "    x: np.ndarray, y: np.ndarray, a: float, b: float, learning_rate: float = 0.1\n",
            "):\n",
            "    y_hat = a * x + b\n",
            "    errors = y - y_hat\n",
            "    # implement me!\n",
            "    # your_code\n",
            "    for i in range(len(x)):\n",
            "        a = a - learning_rate * (-2/len(x) * (y[i]-y_hat[i]) * x[i])\n",
            "        b = b - learning_rate * (-2/len(x) * (y[i]-y_hat[i]))\n",
            "    return a, b\n"
         ]
      },
      {
         "cell_type": "code",
         "execution_count": 7,
         "metadata": {},
         "outputs": [
            {
               "name": "stdout",
               "output_type": "stream",
               "text": [
                  "step 0 loss:  0.1330225119404028\n",
                  "step 100 loss:  0.012673197778527674\n",
                  "step 200 loss:  0.010257153540857806\n",
                  "step 300 loss:  0.010094803754935898\n",
                  "step 400 loss:  0.010083894412889127\n",
                  "step 500 loss:  0.010083161342973332\n",
                  "step 600 loss:  0.010083112083219705\n",
                  "step 700 loss:  0.010083108773135263\n",
                  "step 800 loss:  0.01008310855070908\n",
                  "step 900 loss:  0.01008310853576281\n",
                  "final loss: 0.010083108534760455\n"
               ]
            }
         ],
         "source": [
            "for i in range(1000):\n",
            "    loss = mse(y, a * x + b)\n",
            "    a, b = optimize(x, y, a, b)\n",
            "    if i % 100 == 0:\n",
            "        print(f\"step {i} loss: \", loss)\n",
            "\n",
            "print(\"final loss:\", loss)"
         ]
      },
      {
         "cell_type": "code",
         "execution_count": 8,
         "metadata": {
            "colab": {
               "base_uri": "https://localhost:8080/",
               "height": 282
            },
            "id": "xOgRcPC1LAsq",
            "outputId": "85b0b3e4-aa0d-467a-d8ff-5f01be17b243",
            "scrolled": false
         },
         "outputs": [
            {
               "data": {
                  "text/plain": [
                     "[<matplotlib.lines.Line2D at 0x25a36de18a0>]"
                  ]
               },
               "execution_count": 8,
               "metadata": {},
               "output_type": "execute_result"
            },
            {
               "data": {
                  "image/png": "[encoded data removed]",
                  "text/plain": [
                     "<Figure size 640x480 with 1 Axes>"
                  ]
               },
               "metadata": {},
               "output_type": "display_data"
            }
         ],
         "source": [
            "plt.scatter(x, y)\n",
            "plt.plot(x, a * x + b, color=\"g\", linewidth=4)"
         ]
      },
      {
         "cell_type": "markdown",
         "metadata": {
            "id": "vOr2fWYpLAsq"
         },
         "source": [
            "Udało ci się wytrenować swoją pierwszą sieć neuronową. Czemu? Otóż neuron to po prostu wektor parametrów, a zwykle robimy iloczyn skalarny tych parametrów z wejściem. Dodatkowo na wyjście nakłada się **funkcję aktywacji (activation function)**, która przekształca wyjście. Tutaj takiej nie było, a właściwie była to po prostu funkcja identyczności.\n",
            "\n",
            "Oczywiście w praktyce korzystamy z odpowiedniego frameworka, który w szczególności:\n",
            "- ułatwia budowanie sieci, np. ma gotowe klasy dla warstw neuronów\n",
            "- ma zaimplementowane funkcje kosztu oraz ich pochodne\n",
            "- sam różniczkuje ze względu na odpowiednie parametry i aktualizuje je odpowiednio podczas treningu\n"
         ]
      },
      {
         "cell_type": "markdown",
         "metadata": {
            "id": "NJBYJabuLAsr"
         },
         "source": [
            "## Wprowadzenie do PyTorcha"
         ]
      },
      {
         "cell_type": "markdown",
         "metadata": {
            "id": "EB-99XqhLAsr"
         },
         "source": [
            "PyTorch to w gruncie rzeczy narzędzie do algebry liniowej z [automatycznym rożniczkowaniem](https://pytorch.org/tutorials/beginner/blitz/autograd_tutorial.html), z możliwością przyspieszenia obliczeń z pomocą GPU. Na tych fundamentach zbudowany jest pełny framework do uczenia głębokiego. Można spotkać się ze stwierdzenie, że PyTorch to NumPy + GPU + opcjonalne różniczkowanie, co jest całkiem celne. Plus można łatwo debugować printem :)\n",
            "\n",
            "PyTorch używa dynamicznego grafu obliczeń, który sami definiujemy w kodzie. Takie podejście jest bardzo wygodne, elastyczne i pozwala na łatwe eksperymentowanie. Odbywa się to potencjalnie kosztem wydajności, ponieważ pozostawia kwestię optymalizacji programiście. Więcej na ten temat dla zainteresowanych na końcu laboratorium.\n",
            "\n",
            "Samo API PyTorcha bardzo przypomina Numpy'a, a podstawowym obiektem jest `Tensor`, klasa reprezentująca tensory dowolnego wymiaru. Dodatkowo niektóre tensory będą miały automatycznie obliczony gradient. Co ważne, tensor jest na pewnym urządzeniu, CPU lub GPU, a przenosić między nimi trzeba explicite.\n",
            "\n",
            "Najważniejsze moduły:\n",
            "- `torch` - podstawowe klasy oraz funkcje, np. `Tensor`, `from_numpy()`\n",
            "- `torch.nn` - klasy związane z sieciami neuronowymi, np. `Linear`, `Sigmoid`\n",
            "- `torch.optim` - wszystko związane z optymalizacją, głównie spadkiem wzdłuż gradientu"
         ]
      },
      {
         "cell_type": "code",
         "execution_count": 9,
         "metadata": {
            "id": "FwuIt8S-LAss"
         },
         "outputs": [],
         "source": [
            "import torch\n",
            "import torch.nn as nn\n",
            "import torch.optim as optim"
         ]
      },
      {
         "cell_type": "code",
         "execution_count": 10,
         "metadata": {
            "colab": {
               "base_uri": "https://localhost:8080/"
            },
            "id": "bfCiUFXULAss",
            "outputId": "83f6231d-ecc4-461a-b758-fdc4bc2a88a4"
         },
         "outputs": [
            {
               "name": "stdout",
               "output_type": "stream",
               "text": [
                  "tensor([1.8876, 1.0997, 1.0763, 1.7859, 1.7247, 1.2917, 1.1243, 1.1224, 1.7817,\n",
                  "        1.9379])\n",
                  "tensor([0.8876, 0.0997, 0.0763, 0.7859, 0.7247, 0.2917, 0.1243, 0.1224, 0.7817,\n",
                  "        0.9379])\n",
                  "tensor(4.8323)\n"
               ]
            }
         ],
         "source": [
            "ones = torch.ones(10)\n",
            "noise = torch.ones(10) * torch.rand(10)\n",
            "\n",
            "# elementwise sum\n",
            "print(ones + noise)\n",
            "\n",
            "# elementwise multiplication\n",
            "print(ones * noise)\n",
            "\n",
            "# dot product\n",
            "print(ones @ noise)"
         ]
      },
      {
         "cell_type": "code",
         "execution_count": 11,
         "metadata": {
            "id": "ynNd_kD0LAst"
         },
         "outputs": [],
         "source": [
            "# beware - shares memory with original Numpy array!\n",
            "# very fast, but modifications are visible to original variable\n",
            "x = torch.from_numpy(x)\n",
            "y = torch.from_numpy(y)"
         ]
      },
      {
         "cell_type": "markdown",
         "metadata": {
            "id": "W9kkxczELAsu"
         },
         "source": [
            "Jeżeli dla stworzonych przez nas tensorów chcemy śledzić operacje i obliczać gradient, to musimy oznaczyć `requires_grad=True`."
         ]
      },
      {
         "cell_type": "code",
         "execution_count": 12,
         "metadata": {
            "colab": {
               "base_uri": "https://localhost:8080/"
            },
            "id": "8HtZL-KfLAsu",
            "outputId": "47c6d930-5678-452a-95bc-227935138b40"
         },
         "outputs": [
            {
               "data": {
                  "text/plain": [
                     "(tensor([0.0290], requires_grad=True), tensor([0.5612], requires_grad=True))"
                  ]
               },
               "execution_count": 12,
               "metadata": {},
               "output_type": "execute_result"
            }
         ],
         "source": [
            "a = torch.rand(1, requires_grad=True)\n",
            "b = torch.rand(1, requires_grad=True)\n",
            "a, b"
         ]
      },
      {
         "cell_type": "markdown",
         "metadata": {
            "id": "Nl1guWZ_LAsv"
         },
         "source": [
            "PyTorch zawiera większość powszechnie używanych funkcji kosztu, np. MSE. Mogą być one używane na 2 sposoby, z czego pierwszy jest popularniejszy:\n",
            "- jako klasy wywoływalne z modułu `torch.nn`\n",
            "- jako funkcje z modułu `torch.nn.functional`\n",
            "\n",
            "Po wykonaniu poniższego kodu widzimy, że zwraca on nam tensor z dodatkowymi atrybutami. Co ważne, jest to skalar (0-wymiarowy tensor), bo potrzebujemy zwyczajnej liczby do obliczania propagacji wstecznych (pochodnych czątkowych)."
         ]
      },
      {
         "cell_type": "code",
         "execution_count": 13,
         "metadata": {},
         "outputs": [
            {
               "data": {
                  "text/plain": [
                     "tensor(0.0903, dtype=torch.float64, grad_fn=<MseLossBackward0>)"
                  ]
               },
               "execution_count": 13,
               "metadata": {},
               "output_type": "execute_result"
            }
         ],
         "source": [
            "mse = nn.MSELoss()\n",
            "mse(y, a * x + b)"
         ]
      },
      {
         "cell_type": "markdown",
         "metadata": {
            "id": "vS35r49nLAsw"
         },
         "source": [
            "Atrybutu `grad_fn` nie używamy wprost, bo korzysta z niego w środku PyTorch, ale widać, że tensor jest \"świadomy\", że liczy się na nim pochodną. Możemy natomiast skorzystać z atrybutu `grad`, który zawiera faktyczny gradient. Zanim go jednak dostaniemy, to trzeba powiedzieć PyTorchowi, żeby policzył gradient. Służy do tego metoda `.backward()`, wywoływana na obiekcie zwracanym przez funkcję kosztu."
         ]
      },
      {
         "cell_type": "code",
         "execution_count": 14,
         "metadata": {
            "id": "Qb7l6Xg1LAsx"
         },
         "outputs": [],
         "source": [
            "loss = mse(y, a * x + b)\n",
            "loss.backward()"
         ]
      },
      {
         "cell_type": "code",
         "execution_count": 15,
         "metadata": {
            "colab": {
               "base_uri": "https://localhost:8080/"
            },
            "id": "6LfQbLVoLAsx",
            "outputId": "d5b87fb7-d284-423c-f467-b677384b2f67"
         },
         "outputs": [
            {
               "name": "stdout",
               "output_type": "stream",
               "text": [
                  "tensor([-0.0904])\n"
               ]
            }
         ],
         "source": [
            "print(a.grad)"
         ]
      },
      {
         "cell_type": "markdown",
         "metadata": {
            "id": "Kdf1iweELAsy"
         },
         "source": [
            "Ważne jest, że PyTorch nie liczy za każdym razem nowego gradientu, tylko dodaje go do istniejącego, czyli go akumuluje. Jest to przydatne w niektórych sieciach neuronowych, ale zazwyczaj trzeba go zerować. Jeżeli tego nie zrobimy, to dostaniemy coraz większe gradienty.\n",
            "\n",
            "Do zerowania służy metoda `.zero_()`. W PyTorchu wszystkie metody modyfikujące tensor w miejscu mają `_` na końcu nazwy. Jest to dość niskopoziomowa operacja dla pojedynczych tensorów - zobaczymy za chwilę, jak to robić łatwiej dla całej sieci."
         ]
      },
      {
         "cell_type": "code",
         "execution_count": 16,
         "metadata": {
            "colab": {
               "base_uri": "https://localhost:8080/"
            },
            "id": "DiCQZKJsLAsy",
            "outputId": "2f779622-480d-43fc-b9d0-a0e36ff4b28b"
         },
         "outputs": [
            {
               "data": {
                  "text/plain": [
                     "tensor([-0.1808])"
                  ]
               },
               "execution_count": 16,
               "metadata": {},
               "output_type": "execute_result"
            }
         ],
         "source": [
            "loss = mse(y, a * x + b)\n",
            "loss.backward()\n",
            "a.grad"
         ]
      },
      {
         "cell_type": "markdown",
         "metadata": {
            "id": "xNC3Ag8uLAsz"
         },
         "source": [
            "Zobaczmy, jak wyglądałaby regresja liniowa, ale napisana w PyTorchu. Jest to oczywiście bardzo niskopoziomowa implementacja - za chwilę zobaczymy, jak to wygląda w praktyce."
         ]
      },
      {
         "cell_type": "code",
         "execution_count": 17,
         "metadata": {
            "colab": {
               "base_uri": "https://localhost:8080/"
            },
            "id": "AKnxyeboLAsz",
            "outputId": "2f939474-901a-4773-9704-686a40ae6e8e"
         },
         "outputs": [
            {
               "name": "stdout",
               "output_type": "stream",
               "text": [
                  "step 0 loss:  tensor(0.0903, dtype=torch.float64, grad_fn=<MseLossBackward0>)\n",
                  "step 100 loss:  tensor(0.0151, dtype=torch.float64, grad_fn=<MseLossBackward0>)\n",
                  "step 200 loss:  tensor(0.0104, dtype=torch.float64, grad_fn=<MseLossBackward0>)\n",
                  "step 300 loss:  tensor(0.0101, dtype=torch.float64, grad_fn=<MseLossBackward0>)\n",
                  "step 400 loss:  tensor(0.0101, dtype=torch.float64, grad_fn=<MseLossBackward0>)\n",
                  "step 500 loss:  tensor(0.0101, dtype=torch.float64, grad_fn=<MseLossBackward0>)\n",
                  "step 600 loss:  tensor(0.0101, dtype=torch.float64, grad_fn=<MseLossBackward0>)\n",
                  "step 700 loss:  tensor(0.0101, dtype=torch.float64, grad_fn=<MseLossBackward0>)\n",
                  "step 800 loss:  tensor(0.0101, dtype=torch.float64, grad_fn=<MseLossBackward0>)\n",
                  "step 900 loss:  tensor(0.0101, dtype=torch.float64, grad_fn=<MseLossBackward0>)\n",
                  "final loss: tensor(0.0101, dtype=torch.float64, grad_fn=<MseLossBackward0>)\n"
               ]
            }
         ],
         "source": [
            "learning_rate = 0.1\n",
            "for i in range(1000):\n",
            "    loss = mse(y, a * x + b)\n",
            "\n",
            "    # compute gradients\n",
            "    loss.backward()\n",
            "\n",
            "    # update parameters\n",
            "    a.data -= learning_rate * a.grad\n",
            "    b.data -= learning_rate * b.grad\n",
            "\n",
            "    # zero gradients\n",
            "    a.grad.data.zero_()\n",
            "    b.grad.data.zero_()\n",
            "\n",
            "    if i % 100 == 0:\n",
            "        print(f\"step {i} loss: \", loss)\n",
            "\n",
            "print(\"final loss:\", loss)"
         ]
      },
      {
         "cell_type": "markdown",
         "metadata": {
            "id": "2DXNVhshmmI-"
         },
         "source": [
            "Trening modeli w PyTorchu jest dosyć schematyczny i najczęściej rozdziela się go na kilka bloków, dających razem **pętlę uczącą (training loop)**, powtarzaną w każdej epoce:\n",
            "1. Forward pass - obliczenie predykcji sieci\n",
            "2. Loss calculation\n",
            "3. Backpropagation - obliczenie pochodnych oraz zerowanie gradientów\n",
            "4. Optimalization - aktualizacja wag\n",
            "5. Other - ewaluacja na zbiorze walidacyjnym, logging etc."
         ]
      },
      {
         "cell_type": "code",
         "execution_count": 18,
         "metadata": {
            "colab": {
               "base_uri": "https://localhost:8080/"
            },
            "id": "2etpw7TNLAs0",
            "outputId": "8ac35c12-6c70-41ec-bf57-414456fc3c96",
            "scrolled": true
         },
         "outputs": [
            {
               "name": "stdout",
               "output_type": "stream",
               "text": [
                  "step 0 loss: 0.2690\n",
                  "step 100 loss: 0.0165\n"
               ]
            },
            {
               "name": "stdout",
               "output_type": "stream",
               "text": [
                  "step 200 loss: 0.0105\n",
                  "step 300 loss: 0.0101\n",
                  "step 400 loss: 0.0101\n",
                  "step 500 loss: 0.0101\n",
                  "step 600 loss: 0.0101\n",
                  "step 700 loss: 0.0101\n",
                  "step 800 loss: 0.0101\n",
                  "step 900 loss: 0.0101\n",
                  "final loss: tensor(0.0101, dtype=torch.float64, grad_fn=<MseLossBackward0>)\n"
               ]
            }
         ],
         "source": [
            "# initialization\n",
            "learning_rate = 0.1\n",
            "a = torch.rand(1, requires_grad=True)\n",
            "b = torch.rand(1, requires_grad=True)\n",
            "optimizer = torch.optim.SGD([a, b], lr=learning_rate)\n",
            "best_loss = float(\"inf\")\n",
            "\n",
            "# training loop in each epoch\n",
            "for i in range(1000):\n",
            "    # forward pass\n",
            "    y_hat = a * x + b\n",
            "\n",
            "    # loss calculation\n",
            "    loss = mse(y, y_hat)\n",
            "\n",
            "    # backpropagation\n",
            "    loss.backward()\n",
            "\n",
            "    # optimization\n",
            "    optimizer.step()\n",
            "    optimizer.zero_grad()  # zeroes all gradients - very convenient!\n",
            "\n",
            "    if i % 100 == 0:\n",
            "        if loss < best_loss:\n",
            "            best_model = (a.clone(), b.clone())\n",
            "            best_loss = loss\n",
            "        print(f\"step {i} loss: {loss.item():.4f}\")\n",
            "\n",
            "print(\"final loss:\", loss)"
         ]
      },
      {
         "cell_type": "markdown",
         "metadata": {},
         "source": [
            "Przejdziemy teraz do budowy sieci neuronowej do klasyfikacji. Typowo implementuje się ją po prostu jako sieć dla regresji, ale zwracającą tyle wyników, ile mamy klas, a potem aplikuje się na tym funkcję sigmoidalną (2 klasy) lub softmax (>2 klasy). W przypadku klasyfikacji binarnej zwraca się czasem tylko 1 wartość, przepuszczaną przez sigmoidę - wtedy wyjście z sieci to prawdopodobieństwo klasy pozytywnej.\n",
            "\n",
            "Funkcją kosztu zwykle jest **entropia krzyżowa (cross-entropy)**, stosowana też w klasycznej regresji logistycznej. Co ważne, sieci neuronowe, nawet tak proste, uczą się szybciej i stabilniej, gdy dane na wejściu (a przynajmniej zmienne numeryczne) są **ustandaryzowane (standardized)**. Operacja ta polega na odjęciu średniej i podzieleniu przez odchylenie standardowe (tzw. *Z-score transformation*).\n",
            "\n",
            "**Uwaga - PyTorch wymaga tensora klas będącego liczbami zmiennoprzecinkowymi!**"
         ]
      },
      {
         "cell_type": "markdown",
         "metadata": {},
         "source": [
            "## Zbiór danych"
         ]
      },
      {
         "cell_type": "markdown",
         "metadata": {},
         "source": [
            "Na tym laboratorium wykorzystamy zbiór [Adult Census](https://archive.ics.uci.edu/ml/datasets/adult). Dotyczy on przewidywania na podstawie danych demograficznych, czy dany człowiek zarabia powyżej 50 tysięcy dolarów rocznie, czy też mniej. Jest to cenna informacja np. przy planowaniu kampanii marketingowych. Jak możesz się domyślić, zbiór pochodzi z czasów, kiedy inflacja była dużo niższa :)\n",
            "\n",
            "Poniżej znajduje się kod do ściągnięcia i preprocessingu zbioru. Nie musisz go dokładnie analizować."
         ]
      },
      {
         "cell_type": "code",
         "execution_count": 19,
         "metadata": {
            "colab": {
               "base_uri": "https://localhost:8080/"
            },
            "id": "4DNsaZAnLAs0",
            "outputId": "70822008-530d-4173-deb9-8149a9fe5b41",
            "scrolled": true
         },
         "outputs": [],
         "source": [
            "# !wget https://archive.ics.uci.edu/ml/machine-learning-databases/adult/adult.data"
         ]
      },
      {
         "cell_type": "code",
         "execution_count": 20,
         "metadata": {},
         "outputs": [
            {
               "data": {
                  "text/plain": [
                     "array([' <=50K', ' >50K'], dtype=object)"
                  ]
               },
               "execution_count": 20,
               "metadata": {},
               "output_type": "execute_result"
            }
         ],
         "source": [
            "import pandas as pd\n",
            "\n",
            "\n",
            "columns = [\n",
            "    \"age\",\n",
            "    \"workclass\",\n",
            "    \"fnlwgt\",\n",
            "    \"education\",\n",
            "    \"education-num\",\n",
            "    \"marital-status\",\n",
            "    \"occupation\",\n",
            "    \"relationship\",\n",
            "    \"race\",\n",
            "    \"sex\",\n",
            "    \"capital-gain\",\n",
            "    \"capital-loss\",\n",
            "    \"hours-per-week\",\n",
            "    \"native-country\",\n",
            "    \"wage\"\n",
            "]\n",
            "\n",
            "\"\"\"\n",
            "age: continuous.\n",
            "workclass: Private, Self-emp-not-inc, Self-emp-inc, Federal-gov, Local-gov, State-gov, Without-pay, Never-worked.\n",
            "fnlwgt: continuous.\n",
            "education: Bachelors, Some-college, 11th, HS-grad, Prof-school, Assoc-acdm, Assoc-voc, 9th, 7th-8th, 12th, Masters, 1st-4th, 10th, Doctorate, 5th-6th, Preschool.\n",
            "education-num: continuous.\n",
            "marital-status: Married-civ-spouse, Divorced, Never-married, Separated, Widowed, Married-spouse-absent, Married-AF-spouse.\n",
            "occupation: Tech-support, Craft-repair, Other-service, Sales, Exec-managerial, Prof-specialty, Handlers-cleaners, Machine-op-inspct, Adm-clerical, Farming-fishing, Transport-moving, Priv-house-serv, Protective-serv, Armed-Forces.\n",
            "relationship: Wife, Own-child, Husband, Not-in-family, Other-relative, Unmarried.\n",
            "race: White, Asian-Pac-Islander, Amer-Indian-Eskimo, Other, Black.\n",
            "sex: Female, Male.\n",
            "capital-gain: continuous.\n",
            "capital-loss: continuous.\n",
            "hours-per-week: continuous.\n",
            "native-country: United-States, Cambodia, England, Puerto-Rico, Canada, Germany, Outlying-US(Guam-USVI-etc), India, Japan, Greece, South, China, Cuba, Iran, Honduras, Philippines, Italy, Poland, Jamaica, Vietnam, Mexico, Portugal, Ireland, France, Dominican-Republic, Laos, Ecuador, Taiwan, Haiti, Columbia, Hungary, Guatemala, Nicaragua, Scotland, Thailand, Yugoslavia, El-Salvador, Trinadad&Tobago, Peru, Hong, Holand-Netherlands.\n",
            "\"\"\"\n",
            "\n",
            "df = pd.read_csv(\"adult.data\", header=None, names=columns)\n",
            "df.wage.unique()"
         ]
      },
      {
         "cell_type": "code",
         "execution_count": 21,
         "metadata": {},
         "outputs": [],
         "source": [
            "# attribution: https://www.kaggle.com/code/royshih23/topic7-classification-in-python\n",
            "df['education'].replace('Preschool', 'dropout',inplace=True)\n",
            "df['education'].replace('10th', 'dropout',inplace=True)\n",
            "df['education'].replace('11th', 'dropout',inplace=True)\n",
            "df['education'].replace('12th', 'dropout',inplace=True)\n",
            "df['education'].replace('1st-4th', 'dropout',inplace=True)\n",
            "df['education'].replace('5th-6th', 'dropout',inplace=True)\n",
            "df['education'].replace('7th-8th', 'dropout',inplace=True)\n",
            "df['education'].replace('9th', 'dropout',inplace=True)\n",
            "df['education'].replace('HS-Grad', 'HighGrad',inplace=True)\n",
            "df['education'].replace('HS-grad', 'HighGrad',inplace=True)\n",
            "df['education'].replace('Some-college', 'CommunityCollege',inplace=True)\n",
            "df['education'].replace('Assoc-acdm', 'CommunityCollege',inplace=True)\n",
            "df['education'].replace('Assoc-voc', 'CommunityCollege',inplace=True)\n",
            "df['education'].replace('Bachelors', 'Bachelors',inplace=True)\n",
            "df['education'].replace('Masters', 'Masters',inplace=True)\n",
            "df['education'].replace('Prof-school', 'Masters',inplace=True)\n",
            "df['education'].replace('Doctorate', 'Doctorate',inplace=True)\n",
            "\n",
            "df['marital-status'].replace('Never-married', 'NotMarried',inplace=True)\n",
            "df['marital-status'].replace(['Married-AF-spouse'], 'Married',inplace=True)\n",
            "df['marital-status'].replace(['Married-civ-spouse'], 'Married',inplace=True)\n",
            "df['marital-status'].replace(['Married-spouse-absent'], 'NotMarried',inplace=True)\n",
            "df['marital-status'].replace(['Separated'], 'Separated',inplace=True)\n",
            "df['marital-status'].replace(['Divorced'], 'Separated',inplace=True)\n",
            "df['marital-status'].replace(['Widowed'], 'Widowed',inplace=True)"
         ]
      },
      {
         "cell_type": "code",
         "execution_count": 22,
         "metadata": {
            "colab": {
               "base_uri": "https://localhost:8080/"
            },
            "id": "LiOxs_6mLAs1",
            "outputId": "c95418cf-2632-41d0-de0a-9caf109de113",
            "scrolled": true
         },
         "outputs": [
            {
               "name": "stderr",
               "output_type": "stream",
               "text": [
                  "c:\\Python38\\lib\\site-packages\\sklearn\\preprocessing\\_encoders.py:975: FutureWarning: `sparse` was renamed to `sparse_output` in version 1.2 and will be removed in 1.4. `sparse_output` is ignored unless you leave `sparse` to its default value.\n",
                  "  warnings.warn(\n"
               ]
            },
            {
               "data": {
                  "text/plain": [
                     "((20838, 108), (20838,))"
                  ]
               },
               "execution_count": 22,
               "metadata": {},
               "output_type": "execute_result"
            }
         ],
         "source": [
            "from sklearn.model_selection import train_test_split\n",
            "from sklearn.preprocessing import MinMaxScaler, OneHotEncoder, StandardScaler\n",
            "\n",
            "\n",
            "X = df.copy()\n",
            "y = (X.pop(\"wage\") == ' >50K').astype(int).values\n",
            "\n",
            "train_valid_size = 0.2\n",
            "\n",
            "X_train, X_test, y_train, y_test = train_test_split(\n",
            "    X, y, \n",
            "    test_size=train_valid_size, \n",
            "    random_state=0, \n",
            "    shuffle=True, \n",
            "    stratify=y\n",
            ")\n",
            "X_train, X_valid, y_train, y_valid = train_test_split(\n",
            "    X_train, y_train, \n",
            "    test_size=train_valid_size, \n",
            "    random_state=0, \n",
            "    shuffle=True, \n",
            "    stratify=y_train\n",
            ")\n",
            "\n",
            "continuous_cols = ['age', 'fnlwgt', 'education-num', 'capital-gain', 'capital-loss', 'hours-per-week']\n",
            "continuous_X_train = X_train[continuous_cols]\n",
            "categorical_X_train = X_train.loc[:, ~X_train.columns.isin(continuous_cols)]\n",
            "\n",
            "continuous_X_valid = X_valid[continuous_cols]\n",
            "categorical_X_valid = X_valid.loc[:, ~X_valid.columns.isin(continuous_cols)]\n",
            "\n",
            "continuous_X_test = X_test[continuous_cols]\n",
            "categorical_X_test = X_test.loc[:, ~X_test.columns.isin(continuous_cols)]\n",
            "\n",
            "categorical_encoder = OneHotEncoder(sparse=False, handle_unknown='ignore')\n",
            "continuous_scaler = StandardScaler() #MinMaxScaler(feature_range=(-1, 1))\n",
            "\n",
            "categorical_encoder.fit(categorical_X_train)\n",
            "continuous_scaler.fit(continuous_X_train)\n",
            "\n",
            "continuous_X_train = continuous_scaler.transform(continuous_X_train)\n",
            "continuous_X_valid = continuous_scaler.transform(continuous_X_valid)\n",
            "continuous_X_test = continuous_scaler.transform(continuous_X_test)\n",
            "\n",
            "categorical_X_train = categorical_encoder.transform(categorical_X_train)\n",
            "categorical_X_valid = categorical_encoder.transform(categorical_X_valid)\n",
            "categorical_X_test = categorical_encoder.transform(categorical_X_test)\n",
            "\n",
            "X_train = np.concatenate([continuous_X_train, categorical_X_train], axis=1)\n",
            "X_valid = np.concatenate([continuous_X_valid, categorical_X_valid], axis=1)\n",
            "X_test = np.concatenate([continuous_X_test, categorical_X_test], axis=1)\n",
            "\n",
            "X_train.shape, y_train.shape"
         ]
      },
      {
         "cell_type": "markdown",
         "metadata": {},
         "source": [
            "Uwaga co do typów - PyTorchu wszystko w sieci neuronowej musi być typu `float32`. W szczególności trzeba uważać na konwersje z Numpy'a, który używa domyślnie typu `float64`. Może ci się przydać metoda `.float()`.\n",
            "\n",
            "Uwaga co do kształtów wyjścia - wejścia do `nn.BCELoss` muszą być tego samego kształtu. Może ci się przydać metoda `.squeeze()` lub `.unsqueeze()`."
         ]
      },
      {
         "cell_type": "code",
         "execution_count": 23,
         "metadata": {
            "id": "qfRA3xEoLAs1"
         },
         "outputs": [],
         "source": [
            "X_train = torch.from_numpy(X_train).float()\n",
            "y_train = torch.from_numpy(y_train).float().unsqueeze(-1)\n",
            "\n",
            "X_valid = torch.from_numpy(X_valid).float()\n",
            "y_valid = torch.from_numpy(y_valid).float().unsqueeze(-1)\n",
            "\n",
            "X_test = torch.from_numpy(X_test).float()\n",
            "y_test = torch.from_numpy(y_test).float().unsqueeze(-1)"
         ]
      },
      {
         "cell_type": "markdown",
         "metadata": {},
         "source": [
            "Podobnie jak w laboratorium 2, mamy tu do czynienia z klasyfikacją niezbalansowaną:"
         ]
      },
      {
         "cell_type": "code",
         "execution_count": 24,
         "metadata": {},
         "outputs": [
            {
               "data": {
                  "image/png": "[encoded data removed]",
                  "text/plain": [
                     "<Figure size 640x480 with 1 Axes>"
                  ]
               },
               "metadata": {},
               "output_type": "display_data"
            }
         ],
         "source": [
            "import matplotlib.pyplot as plt\n",
            "\n",
            "y_pos_perc = 100 * y_train.sum().item() / len(y_train)\n",
            "y_neg_perc = 100 - y_pos_perc\n",
            "\n",
            "plt.title(\"Class percentages\")\n",
            "plt.bar([\"<50k\", \">=50k\"], [y_neg_perc, y_pos_perc])\n",
            "plt.show()"
         ]
      },
      {
         "cell_type": "markdown",
         "metadata": {},
         "source": [
            "W związku z powyższym będziemy używać odpowiednich metryk, czyli AUROC, precyzji i czułości."
         ]
      },
      {
         "cell_type": "markdown",
         "metadata": {
            "id": "XLexWff-LAs0"
         },
         "source": [
            "#### Zadanie 3 (1.0 punkt)\n",
            "\n",
            "Zaimplementuj regresję logistyczną dla tego zbioru danych, używając PyTorcha. Dane wejściowe zostały dla ciebie przygotowane w komórkach poniżej.\n",
            "\n",
            "Sama sieć składa się z 2 elementów:\n",
            "- warstwa liniowa `nn.Linear`, przekształcająca wektor wejściowy na 1 wyjście - logit\n",
            "- aktywacja sigmoidalna `nn.Sigmoid`, przekształcająca logit na prawdopodobieństwo klasy pozytywnej\n",
            "\n",
            "Użyj binarnej entropii krzyżowej `nn.BCELoss` jako funkcji kosztu. Użyj optymalizatora SGD ze stałą uczącą `1e-3`. Trenuj przez 3000 epok. Pamiętaj, aby przekazać do optymalizatora `torch.optim.SGD` parametry sieci (metoda `.parameters()`). Dopisz logowanie kosztu raz na 100 epok."
         ]
      },
      {
         "cell_type": "code",
         "execution_count": 25,
         "metadata": {
            "colab": {
               "base_uri": "https://localhost:8080/"
            },
            "id": "NbABKz5-LAs2",
            "outputId": "086dc0f3-0184-4072-9fd3-275b60dee2e4",
            "scrolled": true
         },
         "outputs": [
            {
               "name": "stdout",
               "output_type": "stream",
               "text": [
                  "step 0 loss: 0.6855\n"
               ]
            },
            {
               "name": "stdout",
               "output_type": "stream",
               "text": [
                  "step 100 loss: 0.6560\n",
                  "step 200 loss: 0.6312\n",
                  "step 300 loss: 0.6101\n",
                  "step 400 loss: 0.5920\n",
                  "step 500 loss: 0.5764\n",
                  "step 600 loss: 0.5628\n",
                  "step 700 loss: 0.5509\n",
                  "step 800 loss: 0.5403\n",
                  "step 900 loss: 0.5309\n",
                  "step 1000 loss: 0.5224\n",
                  "step 1100 loss: 0.5148\n",
                  "step 1200 loss: 0.5078\n",
                  "step 1300 loss: 0.5014\n",
                  "step 1400 loss: 0.4955\n",
                  "step 1500 loss: 0.4901\n",
                  "step 1600 loss: 0.4850\n",
                  "step 1700 loss: 0.4803\n",
                  "step 1800 loss: 0.4759\n",
                  "step 1900 loss: 0.4718\n",
                  "step 2000 loss: 0.4679\n",
                  "step 2100 loss: 0.4642\n",
                  "step 2200 loss: 0.4608\n",
                  "step 2300 loss: 0.4575\n",
                  "step 2400 loss: 0.4544\n",
                  "step 2500 loss: 0.4514\n",
                  "step 2600 loss: 0.4486\n",
                  "step 2700 loss: 0.4459\n",
                  "step 2800 loss: 0.4433\n",
                  "step 2900 loss: 0.4409\n",
                  "final loss: tensor(0.4385, grad_fn=<BinaryCrossEntropyBackward0>)\n"
               ]
            }
         ],
         "source": [
            "learning_rate = 1e-3\n",
            "\n",
            "model = nn.Linear(X_train.shape[1], 1)\n",
            "activation = nn.Sigmoid()\n",
            "optimizer = torch.optim.SGD(model.parameters(), lr=learning_rate)\n",
            "loss_fn = nn.BCELoss()\n",
            "\n",
            "# implement me!\n",
            "# your_code\n",
            "for i in range(3000):\n",
            "    predictions = activation(model(X_train))\n",
            "    \n",
            "    loss = loss_fn(predictions, y_train)\n",
            "    loss.backward()\n",
            "\n",
            "    optimizer.step()\n",
            "    optimizer.zero_grad()\n",
            "\n",
            "    if i % 100 == 0:\n",
            "        print(f\"step {i} loss: {loss.item():.4f}\")\n",
            "\n",
            "print(\"final loss:\", loss)"
         ]
      },
      {
         "cell_type": "markdown",
         "metadata": {},
         "source": [
            "Teraz trzeba sprawdzić, jak poszło naszej sieci. W PyTorchu sieć pracuje zawsze w jednym z dwóch trybów: treningowym lub ewaluacyjnym (predykcyjnym). Ten drugi wyłącza niektóre mechanizmy, które są używane tylko podczas treningu, w szczególności regularyzację dropout. Do przełączania służą metody modelu `.train()` i `.eval()`.\n",
            "\n",
            "Dodatkowo podczas liczenia predykcji dobrze jest wyłączyć liczenie gradientów, bo nie będą potrzebne, a oszczędza to czas i pamięć. Używa się do tego menadżera kontekstu `with torch.no_grad():`."
         ]
      },
      {
         "cell_type": "code",
         "execution_count": 26,
         "metadata": {
            "colab": {
               "base_uri": "https://localhost:8080/"
            },
            "id": "zH37zDX4LAs2",
            "outputId": "b1f93309-6f04-4ffc-b0ca-08d0a32120a0",
            "scrolled": true
         },
         "outputs": [
            {
               "name": "stdout",
               "output_type": "stream",
               "text": [
                  "AUROC: 85.51%\n"
               ]
            }
         ],
         "source": [
            "from sklearn.metrics import precision_recall_curve, precision_recall_fscore_support, roc_auc_score\n",
            "\n",
            "\n",
            "model.eval()\n",
            "with torch.no_grad():\n",
            "    y_score = activation(model(X_test))\n",
            "\n",
            "auroc = roc_auc_score(y_test, y_score)\n",
            "print(f\"AUROC: {100 * auroc:.2f}%\")"
         ]
      },
      {
         "cell_type": "markdown",
         "metadata": {},
         "source": [
            "Jest to całkiem dobry wynik, a może być jeszcze lepszy. Sprawdźmy dla pewności jeszcze inne metryki: precyzję, recall oraz F1-score. Dodatkowo narysujemy krzywą precision-recall, czyli jak zmieniają się te metryki w zależności od przyjętego progu (threshold) prawdopodobieństwa, powyżej którego przyjmujemy klasę pozytywną. Taką krzywą należy rysować na zbiorze walidacyjnym, bo później chcemy wykorzystać tę informację do doboru progu, a nie chcemy mieć wycieku danych testowych (data leakage).\n",
            "\n",
            "Poniżej zaimplementowano także funkcję `get_optimal_threshold()`, która sprawdza, dla którego progu uzyskujemy maksymalny F1-score, i zwraca indeks oraz wartość optymalnego progu. Przyda ci się ona w dalszej części laboratorium."
         ]
      },
      {
         "cell_type": "code",
         "execution_count": 27,
         "metadata": {},
         "outputs": [],
         "source": [
            "from sklearn.metrics import PrecisionRecallDisplay\n",
            "\n",
            "\n",
            "def get_optimal_threshold(\n",
            "    precisions: np.array, \n",
            "    recalls: np.array, \n",
            "    thresholds: np.array\n",
            ") -> Tuple[int, float]:\n",
            "    \n",
            "    numerator = 2 * precisions * recalls\n",
            "    denominator = precisions + recalls\n",
            "    f1_scores = np.divide(numerator, denominator, out=np.zeros_like(numerator), where=denominator != 0)\n",
            "    \n",
            "    optimal_idx = np.argmax(f1_scores)\n",
            "    optimal_threshold = thresholds[optimal_idx]\n",
            "    \n",
            "    return optimal_idx, optimal_threshold\n",
            "\n",
            "\n",
            "def plot_precision_recall_curve(y_true, y_pred_score) -> None:\n",
            "    precisions, recalls, thresholds = precision_recall_curve(y_true, y_pred_score)\n",
            "    optimal_idx, optimal_threshold = get_optimal_threshold(precisions, recalls, thresholds)\n",
            "\n",
            "    disp = PrecisionRecallDisplay(precisions, recalls)\n",
            "    disp.plot()\n",
            "    plt.title(f\"Precision-recall curve (opt. thresh.: {optimal_threshold:.4f})\")\n",
            "    plt.axvline(recalls[optimal_idx], color=\"green\", linestyle=\"-.\")\n",
            "    plt.axhline(precisions[optimal_idx], color=\"green\", linestyle=\"-.\")\n",
            "    plt.show()\n"
         ]
      },
      {
         "cell_type": "code",
         "execution_count": 28,
         "metadata": {},
         "outputs": [
            {
               "data": {
                  "image/png": "[encoded data removed]",
                  "text/plain": [
                     "<Figure size 640x480 with 1 Axes>"
                  ]
               },
               "metadata": {},
               "output_type": "display_data"
            }
         ],
         "source": [
            "model.eval()\n",
            "with torch.no_grad():\n",
            "    y_pred_valid_score = activation(model(X_valid))\n",
            "\n",
            "plot_precision_recall_curve(y_valid, y_pred_valid_score)"
         ]
      },
      {
         "cell_type": "markdown",
         "metadata": {
            "id": "vfQPIUQ_LAs2"
         },
         "source": [
            "Jak widać, chociaż AUROC jest wysokie, to dla optymalnego F1-score recall nie jest zbyt wysoki, a precyzja jest już dość niska. Być może wynik uda się poprawić, używając modelu o większej pojemności - pełnej, głębokiej sieci neuronowej."
         ]
      },
      {
         "cell_type": "markdown",
         "metadata": {},
         "source": [
            "## Sieci neuronowe"
         ]
      },
      {
         "cell_type": "markdown",
         "metadata": {
            "id": "YP298w6Cq7T6"
         },
         "source": [
            "Wszystko zaczęło się od inspirowanych biologią [sztucznych neuronów](https://en.wikipedia.org/wiki/Artificial_neuron), których próbowano użyć do symulacji mózgu. Naukowcy szybko odeszli od tego podejścia (sam problem modelowania okazał się też znacznie trudniejszy, niż sądzono), zamiast tego używając neuronów jako jednostek reprezentującą dowolną funkcję parametryczną $f(x, \\Theta)$. Każdy neuron jest zatem bardzo elastyczny, bo jedyne wymagania to funkcja różniczkowalna, a mamy do tego wektor parametrów $\\Theta$.\n",
            "\n",
            "W praktyce najczęściej można spotkać się z kilkoma rodzinami sieci neuronowych:\n",
            "1. Perceptrony wielowarstwowe (*MultiLayer Perceptron*, MLP) - najbardziej podobne do powyższego opisu, niezbędne do klasyfikacji i regresji\n",
            "2. Konwolucyjne (*Convolutional Neural Networks*, CNNs) - do przetwarzania danych z zależnościami przestrzennymi, np. obrazów czy dźwięku\n",
            "3. Rekurencyjne (*Recurrent Neural Networks*, RNNs) - do przetwarzania danych z zależnościami sekwencyjnymi, np. szeregi czasowe, oraz kiedyś do języka naturalnego\n",
            "4. Transformacyjne (*Transformers*), oparte o mechanizm atencji (*attention*) - do przetwarzania języka naturalnego (NLP), z którego wyparły RNNs, a coraz częściej także do wszelkich innych danych, np. obrazów, dźwięku\n",
            "5. Grafowe (*Graph Neural Networks*, GNNS) - do przetwarzania grafów\n",
            "\n",
            "Na tym laboratorium skupimy się na najprostszej architekturze, czyli MLP. Jest ona powszechnie łączona z wszelkimi innymi architekturami, bo pozwala dokonywać klasyfikacji i regresji. Przykładowo, klasyfikacja obrazów to zwykle CNN + MLP, klasyfikacja tekstów to transformer + MLP, a regresja na grafach to GNN + MLP.\n",
            "\n",
            "Dodatkowo, pomimo prostoty MLP są bardzo potężne - udowodniono, że perceptrony (ich powszechna nazwa) są [uniwersalnym aproksymatorem](https://www.sciencedirect.com/science/article/abs/pii/0893608089900208), będącym w stanie przybliżyć dowolną funkcję z odpowiednio małym błędem, zakładając wystarczającą wielkość warstw sieci. Szczególne ich wersje potrafią nawet [reprezentować drzewa decyzyjne](https://www.youtube.com/watch?v=_okxGdHM5b8).\n",
            "\n",
            "Dla zainteresowanych polecamy [doskonałą książkę \"Dive into Deep Learning\", z implementacjami w PyTorchu](https://d2l.ai/chapter_multilayer-perceptrons/index.html), [klasyczną książkę \"Deep Learning Book\"](https://www.deeplearningbook.org/contents/mlp.html), oraz [ten filmik](https://www.youtube.com/watch?v=BFHrIxKcLjA), jeśli zastanawiałeś/-aś się, czemu używamy deep learning, a nie naprzykład (wide?) learning. (aka. czemu staramy się budować głębokie sieci, a nie płytkie za to szerokie)"
         ]
      },
      {
         "attachments": {
            "1_x-3NGQv0pRIab8xDT-f_Hg.png": {
               "image/png": "[encoded data removed]"
            }
         },
         "cell_type": "markdown",
         "metadata": {
            "id": "S_ZjoGBU5upj"
         },
         "source": [
            "### Sieci MLP\n",
            "\n",
            "Dla przypomnienia, na wejściu mamy punkty ze zbioru treningowego, czyli $d$-wymiarowe wektory. W klasyfikacji chcemy znaleźć granicę decyzyjną, czyli krzywą, która oddzieli od siebie klasy. W wejściowej przestrzeni może być to trudne, bo chmury punktów z poszczególnych klas mogą być ze sobą dość pomieszane. Pamiętajmy też, że regresja logistyczna jest klasyfikatorem liniowym, czyli w danej przestrzeni potrafi oddzielić punkty tylko linią prostą.\n",
            "\n",
            "Sieć MLP składa się z warstw. Każda z nich dokonuje nieliniowego przekształcenia przestrzeni (można o tym myśleć jak o składaniu przestrzeni jakąś prostą/łamaną), tak, aby w finalnej przestrzeni nasze punkty były możliwie liniowo separowalne. Wtedy ostatnia warstwa z sigmoidą będzie potrafiła je rozdzielić od siebie.\n",
            "\n",
            "![1_x-3NGQv0pRIab8xDT-f_Hg.png](attachment:1_x-3NGQv0pRIab8xDT-f_Hg.png)\n",
            "\n",
            "Poszczególne neurony składają się z iloczynu skalarnego wejść z wagami neuronu, oraz nieliniowej funkcji aktywacji. W PyTorchu są to osobne obiekty - `nn.Linear` oraz np. `nn.Sigmoid`. Funkcja aktywacji przyjmuje wynik iloczynu skalarnego i przekształca go, aby sprawdzić, jak mocno reaguje neuron na dane wejście. Musi być nieliniowa z dwóch powodów. Po pierwsze, tylko nieliniowe przekształcenia są na tyle potężne, żeby umożliwić liniową separację danych w ostatniej warstwie. Po drugie, liniowe przekształcenia zwyczajnie nie działają. Aby zrozumieć czemu, trzeba zobaczyć, co matematycznie oznacza sieć MLP.\n",
            "\n",
            "![perceptron](https://www.saedsayad.com/images/Perceptron_bkp_1.png)\n",
            "\n",
            "Zapisane matematycznie MLP to:\n",
            "\n",
            "$\\large\n",
            "h_1 = f_1(x) \\\\\n",
            "h_2 = f_2(h_1) \\\\\n",
            "h_3 = f_3(h_2) \\\\\n",
            "... \\\\\n",
            "h_n = f_n(h_{n-1})\n",
            "$\n",
            "\n",
            "gdzie $x$ to wejście $f_i$ to funkcja aktywacji $i$-tej warstwy, a $h_i$ to wyjście $i$-tej warstwy, nazywane **ukrytą reprezentacją (hidden representation)**, lub *latent representation*. Nazwa bierze się z tego, że w środku sieci wyciągamy cechy i wzorce w danych, które nie są widoczne na pierwszy rzut oka na wejściu.\n",
            "\n",
            "Załóżmy, że uczymy się na danych $x$ o jednym wymiarze (dla uproszczenia wzorów) oraz nie mamy funkcji aktywacji, czyli wykorzystujemy tak naprawdę aktywację liniową $f(x) = x$. Zobaczmy jak będą wyglądać dane przechodząc przez kolejne warstwy:\n",
            "\n",
            "$\\large\n",
            "h_1 = f_1(xw_1) = xw_1 \\\\\n",
            "h_2 = f_2(h_1w_2) = xw_1w_2 \\\\\n",
            "... \\\\\n",
            "h_n = f_n(h_{n-1}w_n) = xw_1w_2...w_n\n",
            "$\n",
            "\n",
            "gdzie $w_i$ to jest parametr $i$-tej warstwy sieci, $x$ to są dane (w naszym przypadku jedna liczba) wejściowa, a $h_i$ to wyjście $i$-tej warstwy.\n",
            "\n",
            "Jak widać, taka sieć o $n$ warstwach jest równoważna sieci o jednej warstwie z parametrem $w = w_1w_2...w_n$. Wynika to z tego, że złożenie funkcji liniowych jest także funkcją liniową - patrz notatki z algebry :)\n",
            "\n",
            "Jeżeli natomiast użyjemy nieliniowej funkcji aktywacji, często oznaczanej jako $\\sigma$, to wszystko będzie działać. Co ważne, ostatnia warstwa, dająca wyjście sieci, ma zwykle inną aktywację od warstw wewnątrz sieci, bo też ma inne zadanie - zwrócić wartość dla klasyfikacji lub regresji. Na wyjściu korzysta się z funkcji liniowej (regresja), sigmoidalnej (klasyfikacja binarna) lub softmax (klasyfikacja wieloklasowa).\n",
            "\n",
            "Wewnątrz sieci używano kiedyś sigmoidy oraz tangensa hiperbolicznego `tanh`, ale okazało się to nieefektywne przy uczeniu głębokich sieci o wielu warstwach. Nowoczesne sieci korzystają zwykle z funkcji ReLU (*rectified linear unit*), która jest zaskakująco prosta: $ReLU(x) = \\max(0, x)$. Okazało się, że bardzo dobrze nadaje się do treningu nawet bardzo głębokich sieci neuronowych. Nowsze funkcje aktywacji są głównie modyfikacjami ReLU.\n",
            "\n",
            "![relu](https://www.nomidl.com/wp-content/uploads/2022/04/image-10.png)"
         ]
      },
      {
         "cell_type": "markdown",
         "metadata": {},
         "source": [
            "### MLP w PyTorchu\n",
            "\n",
            "Warstwę neuronów w MLP nazywa się warstwą gęstą (*dense layer*) lub warstwą w pełni połączoną (*fully-connected layer*), i taki opis oznacza zwykle same neurony oraz funkcję aktywacji. PyTorch, jak już widzieliśmy, definiuje osobno transformację liniową oraz aktywację, a więc jedna warstwa składa się de facto z 2 obiektów, wywoływanych jeden po drugim. Inne frameworki, szczególnie wysokopoziomowe (np. Keras) łączą to często w jeden obiekt.\n",
            "\n",
            "MLP składa się zatem z sekwencji obiektów, które potem wywołuje się jeden po drugim, gdzie wyjście poprzedniego to wejście kolejnego. Ale nie można tutaj używać Pythonowych list! Z perspektywy PyTorcha to wtedy niezależne obiekty i nie zostanie wtedy przekazany między nimi gradient. Trzeba tutaj skorzystać z `nn.Sequential`, aby tworzyć taki pipeline.\n",
            "\n",
            "Rozmiary wejścia i wyjścia dla każdej warstwy trzeba w PyTorchu podawać explicite. Jest to po pierwsze edukacyjne, a po drugie często ułatwia wnioskowanie o działaniu sieci oraz jej debugowanie - mamy jasno podane, czego oczekujemy. Niektóre frameworki (np. Keras) obliczają to automatycznie.\n",
            "\n",
            "Co ważne, ostatnia warstwa zwykle nie ma funkcji aktywacji. Wynika to z tego, że obliczanie wielu funkcji kosztu (np. entropii krzyżowej) na aktywacjach jest często niestabilne numerycznie. Z tego powodu PyTorch oferuje funkcje kosztu zawierające w środku aktywację dla ostatniej warstwy, a ich implementacje są stabilne numerycznie. Przykładowo, `nn.BCELoss` przyjmuje wejście z zaaplikowanymi już aktywacjami, ale może skutkować under/overflow, natomiast `nn.BCEWithLogitsLoss` przyjmuje wejście bez aktywacji, a w środku ma specjalną implementację łączącą binarną entropię krzyżową z aktywacją sigmoidalną. Oczywiście w związku z tym aby dokonać potem predykcji w praktyce, trzeba pamiętać o użyciu funkcji aktywacji. Często korzysta się przy tym z funkcji z modułu `torch.nn.functional`, które są w tym wypadku nieco wygodniejsze od klas wywoływalnych z `torch.nn`.\n",
            "\n",
            "Całe sieci w PyTorchu tworzy się jako klasy dziedziczące po `nn.Module`. Co ważne, obiekty, z których tworzymy sieć, np. `nn.Linear`, także dziedziczą po tej klasie. Pozwala to na bardzo modułową budowę kodu, zgodną z zasadami OOP. W konstruktorze najpierw trzeba zawsze wywołać konstruktor rodzica - `super().__init__()`, a później tworzy się potrzebne obiekty i zapisuje jako atrybuty. Każdy atrybut dziedziczący po `nn.Module` lub `nn.Parameter` jest uważany za taki, który zawiera parametry sieci, a więc przy wywołaniu metody `parameters()` - parametry z tych atrybutów pojawią się w liście wszystkich parametrów. Musimy też zdefiniować metodę `forward()`, która przyjmuje tensor `x` i zwraca wynik. Typowo ta metoda po prostu używa obiektów zdefiniowanych w konstruktorze.\n",
            "\n",
            "\n",
            "**UWAGA: nigdy w normalnych warunkach się nie woła metody `forward` ręcznie**"
         ]
      },
      {
         "cell_type": "markdown",
         "metadata": {
            "id": "J8niDgExAMDO"
         },
         "source": [
            "#### Zadanie 4 (0.5 punktu)\n",
            "\n",
            "Uzupełnij implementację 3-warstwowej sieci MLP. Użyj rozmiarów:\n",
            "* pierwsza warstwa: input_size x 256\n",
            "* druga warstwa: 256 x 128\n",
            "* trzecia warstwa: 128 x 1\n",
            "\n",
            "Użyj funkcji aktywacji ReLU.\n",
            "\n",
            "Przydatne klasy:\n",
            "- `nn.Sequential`\n",
            "- `nn.Linear`\n",
            "- `nn.ReLU`"
         ]
      },
      {
         "cell_type": "code",
         "execution_count": 29,
         "metadata": {},
         "outputs": [],
         "source": [
            "from torch import sigmoid\n",
            "\n",
            "\n",
            "class MLP(nn.Module):\n",
            "    def __init__(self, input_size: int):\n",
            "        super().__init__()\n",
            "\n",
            "        # implement me!\n",
            "        # your_code\n",
            "        self.model = nn.Sequential(\n",
            "            nn.Linear(input_size, 256),\n",
            "            nn.ReLU(),\n",
            "            nn.Linear(256, 128),\n",
            "            nn.ReLU(),\n",
            "            nn.Linear(128, 1)\n",
            "        )\n",
            "        \n",
            "\n",
            "    def forward(self, x):\n",
            "        # implement me!\n",
            "        # your_code\n",
            "        return self.model(x)\n",
            "\n",
            "    def predict_proba(self, x):\n",
            "        return sigmoid(self(x))\n",
            "    \n",
            "    def predict(self, x, threshold: float = 0.5):\n",
            "        y_pred_score = self.predict_proba(x)\n",
            "        return (y_pred_score > threshold).to(torch.int32)\n"
         ]
      },
      {
         "cell_type": "code",
         "execution_count": 30,
         "metadata": {},
         "outputs": [
            {
               "name": "stdout",
               "output_type": "stream",
               "text": [
                  "Epoch 0 train loss: 0.7167\n"
               ]
            },
            {
               "name": "stdout",
               "output_type": "stream",
               "text": [
                  "Epoch 200 train loss: 0.6900\n",
                  "Epoch 400 train loss: 0.6672\n",
                  "Epoch 600 train loss: 0.6474\n",
                  "Epoch 800 train loss: 0.6299\n",
                  "Epoch 1000 train loss: 0.6145\n",
                  "Epoch 1200 train loss: 0.6007\n",
                  "Epoch 1400 train loss: 0.5886\n",
                  "Epoch 1600 train loss: 0.5778\n",
                  "Epoch 1800 train loss: 0.5682\n",
                  "final loss: 0.5597\n"
               ]
            }
         ],
         "source": [
            "learning_rate = 1e-3\n",
            "model = MLP(input_size=X_train.shape[1])\n",
            "optimizer = torch.optim.SGD(model.parameters(), lr=learning_rate)\n",
            "\n",
            "# note that we are using loss function with sigmoid built in\n",
            "loss_fn = torch.nn.BCEWithLogitsLoss()\n",
            "num_epochs = 2000\n",
            "evaluation_steps = 200\n",
            "\n",
            "for i in range(num_epochs):\n",
            "    y_pred = model(X_train)\n",
            "    loss = loss_fn(y_pred, y_train)\n",
            "    loss.backward()\n",
            "\n",
            "    optimizer.step()\n",
            "    optimizer.zero_grad()\n",
            "\n",
            "    if i % evaluation_steps == 0:\n",
            "        print(f\"Epoch {i} train loss: {loss.item():.4f}\")\n",
            "\n",
            "print(f\"final loss: {loss.item():.4f}\")"
         ]
      },
      {
         "cell_type": "code",
         "execution_count": 31,
         "metadata": {
            "colab": {
               "base_uri": "https://localhost:8080/"
            },
            "id": "LP5GSup24dXU",
            "outputId": "05f332c4-5d94-41f6-f85b-17793d3c4b49"
         },
         "outputs": [
            {
               "name": "stdout",
               "output_type": "stream",
               "text": [
                  "AUROC: 77.80%\n"
               ]
            },
            {
               "data": {
                  "image/png": "[encoded data removed]",
                  "text/plain": [
                     "<Figure size 640x480 with 1 Axes>"
                  ]
               },
               "metadata": {},
               "output_type": "display_data"
            }
         ],
         "source": [
            "model.eval()\n",
            "with torch.no_grad():\n",
            "    # positive class probabilities\n",
            "    y_pred_valid_score = model.predict_proba(X_valid)\n",
            "    y_pred_test_score = model.predict_proba(X_test)\n",
            "\n",
            "auroc = roc_auc_score(y_test, y_pred_test_score)\n",
            "print(f\"AUROC: {100 * auroc:.2f}%\")\n",
            "\n",
            "plot_precision_recall_curve(y_valid, y_pred_valid_score)"
         ]
      },
      {
         "cell_type": "markdown",
         "metadata": {},
         "source": [
            "AUROC jest podobne, a precision i recall spadły - wypadamy wręcz gorzej od regresji liniowej! Skoro dodaliśmy więcej warstw, to może pojemność modelu jest teraz za duża i trzeba by go zregularyzować?\n",
            "\n",
            "Sieci neuronowe bardzo łatwo przeuczają, bo są bardzo elastycznymi i pojemnymi modelami. Dlatego mają wiele różnych rodzajów regularyzacji, których używa się razem. Co ciekawe, udowodniono eksperymentalnie, że zbyt duże sieci z mocną regularyzacją działają lepiej niż mniejsze sieci, odpowiedniego rozmiaru, za to ze słabszą regularyzacją.\n",
            "\n",
            "Pierwszy rodzaj regularyzacji to znana nam już **regularyzacja L2**, czyli penalizacja zbyt dużych wag. W kontekście sieci neuronowych nazywa się też ją czasem *weight decay*. W PyTorchu dodaje się ją jako argument do optymalizatora.\n",
            "\n",
            "Regularyzacja specyficzna dla sieci neuronowych to **dropout**. Polega on na losowym wyłączaniu zadanego procenta neuronów podczas treningu. Pomimo prostoty okazała się niesamowicie skuteczna, szczególnie w treningu bardzo głębokich sieci. Co ważne, jest to mechanizm używany tylko podczas treningu - w trakcie predykcji za pomocą sieci wyłącza się ten mechanizm i dokonuje normalnie predykcji całą siecią. Podejście to można potraktować jak ensemble learning, podobny do lasów losowych - wyłączając losowe części sieci, w każdej iteracji trenujemy nieco inną sieć, co odpowiada uśrednianiu predykcji różnych algorytmów. Typowo stosuje się dość mocny dropout, rzędu 25-50%. W PyTorchu implementuje go warstwa `nn.Dropout`, aplikowana zazwyczaj po funkcji aktywacji.\n",
            "\n",
            "Ostatni, a być może najważniejszy rodzaj regularyzacji to **wczesny stop (early stopping)**. W każdym kroku mocniej dostosowujemy terenową sieć do zbioru treningowego, a więc zbyt długi trening będzie skutkował przeuczeniem. W metodzie wczesnego stopu używamy wydzielonego zbioru walidacyjnego (pojedynczego, metoda holdout), sprawdzając co określoną liczbę epok wynik na tym zbiorze. Jeżeli nie uzyskamy wyniku lepszego od najlepszego dotychczas uzyskanego przez określoną liczbę epok, to przerywamy trening. Okres, przez który czekamy na uzyskanie lepszego wyniku, to cierpliwość (*patience*). Im mniejsze, tym mocniejszy jest ten rodzaj regularyzacji, ale trzeba z tym uważać, bo łatwo jest przesadzić i zbyt szybko przerywać trening. Niektóre implementacje uwzględniają tzw. *grace period*, czyli gwarantowaną minimalną liczbę epok, przez którą będziemy trenować sieć, niezależnie od wybranej cierpliwości.\n",
            "\n",
            "Dodatkowo ryzyko przeuczenia można zmniejszyć, używając mniejszej stałej uczącej."
         ]
      },
      {
         "cell_type": "markdown",
         "metadata": {},
         "source": [
            "#### Zadanie 5 (1.5 punktu)\n",
            "\n",
            "Zaimplementuj funkcję `evaluate_model()`, obliczającą metryki na zbiorze testowym:\n",
            "- wartość funkcji kosztu (loss)\n",
            "- AUROC\n",
            "- optymalny próg\n",
            "- F1-score przy optymalnym progu\n",
            "- precyzję oraz recall dla optymalnego progu\n",
            "\n",
            "Jeżeli podana jest wartość argumentu `threshold`, to użyj jej do zamiany prawdopodobieństw na twarde predykcje. W przeciwnym razie użyj funkcji `get_optimal_threshold` i oblicz optymalną wartość progu.\n",
            "\n",
            "Pamiętaj o przełączeniu modelu w tryb ewaluacji oraz o wyłączeniu obliczania gradientów."
         ]
      },
      {
         "cell_type": "code",
         "execution_count": 32,
         "metadata": {},
         "outputs": [],
         "source": [
            "from typing import Optional\n",
            "\n",
            "from sklearn.metrics import precision_score, recall_score, f1_score\n",
            "from torch import sigmoid\n",
            "\n",
            "\n",
            "def evaluate_model(\n",
            "    model: nn.Module, \n",
            "    X: torch.Tensor, \n",
            "    y: torch.Tensor, \n",
            "    loss_fn: nn.Module,\n",
            "    threshold: Optional[float]= None\n",
            ") -> Dict[str, float]:\n",
            "    # implement me!\n",
            "    # your_code   \n",
            "    model.eval()\n",
            "    with torch.no_grad():\n",
            "        y_pred_score = model.predict_proba(X)\n",
            "        loss = loss_fn(y_pred_score, y)\n",
            "        precisions, recalls, thresholds = precision_recall_curve(y, y_pred_score)\n",
            "        \n",
            "        if threshold is None:\n",
            "            optimal_idx, threshold = get_optimal_threshold(precisions, recalls, thresholds) \n",
            "        y_pred = model.predict(X, threshold)\n",
            "        \n",
            "        precision = precision_score(y, y_pred)\n",
            "        recall = recall_score(y, y_pred)\n",
            "        f1 = f1_score(y, y_pred)\n",
            "        auroc = roc_auc_score(y, y_pred_score)\n",
            "\n",
            "        return {\n",
            "            \"loss\": loss.item(),\n",
            "            \"AUROC\": auroc,\n",
            "            \"precision\": precision,\n",
            "            \"recall\": recall,\n",
            "            \"F1-score\": f1\n",
            "        }\n"
         ]
      },
      {
         "cell_type": "markdown",
         "metadata": {},
         "source": [
            "#### Zadanie 6 (0.5 punktu)\n",
            "\n",
            "Zaimplementuj 3-warstwową sieć MLP z dropout (50%). Rozmiary warstw ukrytych mają wynosić 256 i 128."
         ]
      },
      {
         "cell_type": "code",
         "execution_count": 33,
         "metadata": {},
         "outputs": [],
         "source": [
            "class RegularizedMLP(nn.Module):\n",
            "    def __init__(self, input_size: int, dropout_p: float = 0.5):\n",
            "        super().__init__()\n",
            "\n",
            "        # implement me!\n",
            "        # your_code\n",
            "        self.model = nn.Sequential(\n",
            "            nn.Linear(input_size, 256),\n",
            "            nn.ReLU(),\n",
            "            nn.Dropout(dropout_p),\n",
            "            nn.Linear(256, 128),\n",
            "            nn.ReLU(),\n",
            "            nn.Dropout(dropout_p),\n",
            "            nn.Linear(128, 1)\n",
            "        )\n",
            "    \n",
            "    def forward(self, x):\n",
            "        # implement me!\n",
            "        # your_code\n",
            "        return self.model(x)\n",
            "\n",
            "    def predict_proba(self, x):\n",
            "        return sigmoid(self(x))\n",
            "    \n",
            "    def predict(self, x, threshold: float = 0.5):\n",
            "        y_pred_score = self.predict_proba(x)\n",
            "        return (y_pred_score > threshold).to(torch.int32)\n"
         ]
      },
      {
         "cell_type": "markdown",
         "metadata": {
            "id": "rEk9azaULAsz"
         },
         "source": [
            "Opisaliśmy wcześniej podstawowy optymalizator w sieciach neuronowych - spadek wzdłuż gradientu. Jednak wymaga on użycia całego zbioru danych, aby obliczyć gradient, co jest często niewykonalne przez rozmiar zbioru. Dlatego wymyślono **stochastyczny spadek wzdłuż gradientu (stochastic gradient descent, SGD)**, w którym używamy 1 przykładu naraz, liczymy gradient tylko po nim i aktualizujemy parametry. Jest to oczywiście dość grube przybliżenie gradientu, ale pozwala robić szybko dużo małych kroków. Kompromisem, którego używa się w praktyce, jest **minibatch gradient descent**, czyli używanie batchy np. 32, 64 czy 128 przykładów.\n",
            "\n",
            "Rzadko wspominanym, a ważnym faktem jest także to, że stochastyczność metody optymalizacji jest sama w sobie też [metodą regularyzacji](https://arxiv.org/abs/2101.12176), a więc `batch_size` to także hiperparametr.\n",
            "\n",
            "Obecnie najpopularniejszą odmianą SGD jest [Adam](https://arxiv.org/abs/1412.6980), gdyż uczy on szybko sieć oraz daje bardzo dobre wyniki nawet przy niekoniecznie idealnie dobranych hiperparametrach. W PyTorchu najlepiej korzystać z jego implementacji `AdamW`, która jest nieco lepsza niż implementacja `Adam`. Jest to zasadniczo zawsze wybór domyślny przy treningu współczesnych sieci neuronowych.\n",
            "\n",
            "Na razie użyjemy jednak minibatch SGD."
         ]
      },
      {
         "cell_type": "markdown",
         "metadata": {},
         "source": [
            "Poniżej znajduje się implementacja prostej klasy dziedziczącej po `Dataset` - tak w PyTorchu implementuje się własne zbiory danych. Użycie takich klas umożliwia użycie klas ładujących dane (`DataLoader`), które z kolei pozwalają łatwo ładować batche danych. Trzeba w takiej klasie zaimplementować metody:\n",
            "- `__len__` - zwraca ilość punktów w zbiorze\n",
            "- `__getitem__` - zwraca przykład ze zbioru pod danym indeksem oraz jego klasę\n"
         ]
      },
      {
         "cell_type": "code",
         "execution_count": 34,
         "metadata": {},
         "outputs": [],
         "source": [
            "from torch.utils.data import Dataset\n",
            "\n",
            "\n",
            "class MyDataset(Dataset):\n",
            "    def __init__(self, data, y):\n",
            "        super().__init__()\n",
            "        \n",
            "        self.data = data\n",
            "        self.y = y\n",
            "    \n",
            "    def __len__(self):\n",
            "        return self.data.shape[0]\n",
            "    \n",
            "    def __getitem__(self, idx):\n",
            "        return self.data[idx], self.y[idx]\n"
         ]
      },
      {
         "cell_type": "markdown",
         "metadata": {},
         "source": [
            "#### Zadanie 7 (1.5 punktu)\n",
            "\n",
            "Zaimplementuj pętlę treningowo-walidacyjną dla sieci neuronowej. Wykorzystaj podane wartości hiperparametrów do treningu (stała ucząca, prawdopodobieństwo dropoutu, regularyzacja L2, rozmiar batcha, maksymalna liczba epok). Użyj optymalizatora SGD.\n",
            "\n",
            "Dodatkowo zaimplementuj regularyzację przez early stopping. Sprawdzaj co epokę wynik na zbiorze walidacyjnym. Użyj podanej wartości patience, a jako metryki po prostu wartości funkcji kosztu. Może się tutaj przydać zaimplementowana funkcja `evaluate_model()`.\n",
            "\n",
            "Pamiętaj o tym, aby przechowywać najlepszy dotychczasowy wynik walidacyjny oraz najlepszy dotychczasowy model. Zapamiętaj też optymalny próg do klasyfikacji dla najlepszego modelu."
         ]
      },
      {
         "cell_type": "code",
         "execution_count": 35,
         "metadata": {},
         "outputs": [],
         "source": [
            "from copy import deepcopy\n",
            "\n",
            "from torch.utils.data import DataLoader\n",
            "\n",
            "\n",
            "learning_rate = 1e-3\n",
            "dropout_p = 0.5\n",
            "l2_reg = 1e-4\n",
            "batch_size = 128\n",
            "max_epochs = 300\n",
            "\n",
            "early_stopping_patience = 4"
         ]
      },
      {
         "cell_type": "code",
         "execution_count": 36,
         "metadata": {
            "scrolled": true
         },
         "outputs": [
            {
               "name": "stdout",
               "output_type": "stream",
               "text": [
                  "Epoch 0 train loss: 0.6975, eval loss 0.853497326374054\n",
                  "Epoch 1 train loss: 0.6798, eval loss 0.8468068838119507\n",
                  "Epoch 2 train loss: 0.6591, eval loss 0.8405637741088867\n",
                  "Epoch 3 train loss: 0.6452, eval loss 0.8347002267837524\n",
                  "Epoch 4 train loss: 0.6322, eval loss 0.8291308283805847\n",
                  "Epoch 5 train loss: 0.6214, eval loss 0.8238603472709656\n",
                  "Epoch 6 train loss: 0.6093, eval loss 0.8188655376434326\n",
                  "Epoch 7 train loss: 0.6016, eval loss 0.814111053943634\n",
                  "Epoch 8 train loss: 0.5862, eval loss 0.8095988035202026\n",
                  "Epoch 9 train loss: 0.5780, eval loss 0.8052892088890076\n",
                  "Epoch 10 train loss: 0.5720, eval loss 0.8012126684188843\n",
                  "Epoch 11 train loss: 0.5672, eval loss 0.7973669171333313\n",
                  "Epoch 12 train loss: 0.5644, eval loss 0.793687105178833\n",
                  "Epoch 13 train loss: 0.5571, eval loss 0.7902270555496216\n",
                  "Epoch 14 train loss: 0.5465, eval loss 0.7869548201560974\n",
                  "Epoch 15 train loss: 0.5487, eval loss 0.7838666439056396\n",
                  "Epoch 16 train loss: 0.5492, eval loss 0.7809461355209351\n",
                  "Epoch 17 train loss: 0.5253, eval loss 0.7781655192375183\n",
                  "Epoch 18 train loss: 0.5310, eval loss 0.7755482792854309\n",
                  "Epoch 19 train loss: 0.5164, eval loss 0.7730949521064758\n",
                  "Epoch 20 train loss: 0.5237, eval loss 0.7708156704902649\n",
                  "Epoch 21 train loss: 0.5331, eval loss 0.7686374187469482\n",
                  "Epoch 22 train loss: 0.5143, eval loss 0.7666123509407043\n",
                  "Epoch 23 train loss: 0.5214, eval loss 0.7646474242210388\n",
                  "Epoch 24 train loss: 0.5193, eval loss 0.7627817988395691\n",
                  "Epoch 25 train loss: 0.5099, eval loss 0.7610173225402832\n",
                  "Epoch 26 train loss: 0.5140, eval loss 0.7593408226966858\n",
                  "Epoch 27 train loss: 0.5055, eval loss 0.7576906681060791\n",
                  "Epoch 28 train loss: 0.5082, eval loss 0.7561355829238892\n",
                  "Epoch 29 train loss: 0.4985, eval loss 0.7546114325523376\n",
                  "Epoch 30 train loss: 0.4993, eval loss 0.7531701922416687\n",
                  "Epoch 31 train loss: 0.4979, eval loss 0.7517709136009216\n",
                  "Epoch 32 train loss: 0.4922, eval loss 0.750414252281189\n",
                  "Epoch 33 train loss: 0.4952, eval loss 0.7490984201431274\n",
                  "Epoch 34 train loss: 0.4930, eval loss 0.7477352023124695\n",
                  "Epoch 35 train loss: 0.4857, eval loss 0.7464873790740967\n",
                  "Epoch 36 train loss: 0.4924, eval loss 0.745280921459198\n",
                  "Epoch 37 train loss: 0.4816, eval loss 0.7440657615661621\n",
                  "Epoch 38 train loss: 0.4862, eval loss 0.7428644299507141\n",
                  "Epoch 39 train loss: 0.4748, eval loss 0.7417703866958618\n",
                  "Epoch 40 train loss: 0.4891, eval loss 0.7406285405158997\n",
                  "Epoch 41 train loss: 0.4759, eval loss 0.7394799590110779\n",
                  "Epoch 42 train loss: 0.4570, eval loss 0.738393247127533\n",
                  "Epoch 43 train loss: 0.4689, eval loss 0.7373906373977661\n",
                  "Epoch 44 train loss: 0.4645, eval loss 0.7363519072532654\n",
                  "Epoch 45 train loss: 0.4549, eval loss 0.7353177070617676\n",
                  "Epoch 46 train loss: 0.4698, eval loss 0.7342950701713562\n",
                  "Epoch 47 train loss: 0.4629, eval loss 0.7333076000213623\n",
                  "Epoch 48 train loss: 0.4562, eval loss 0.7323364615440369\n",
                  "Epoch 49 train loss: 0.4556, eval loss 0.7314091920852661\n",
                  "Epoch 50 train loss: 0.4606, eval loss 0.7305157780647278\n",
                  "Epoch 51 train loss: 0.4511, eval loss 0.7296843528747559\n",
                  "Epoch 52 train loss: 0.4587, eval loss 0.7287829518318176\n",
                  "Epoch 53 train loss: 0.4547, eval loss 0.7279536724090576\n",
                  "Epoch 54 train loss: 0.4353, eval loss 0.7271448969841003\n",
                  "Epoch 55 train loss: 0.4608, eval loss 0.7263491749763489\n",
                  "Epoch 56 train loss: 0.4310, eval loss 0.7255902290344238\n",
                  "Epoch 57 train loss: 0.4389, eval loss 0.7247817516326904\n",
                  "Epoch 58 train loss: 0.4347, eval loss 0.724048376083374\n",
                  "Epoch 59 train loss: 0.4270, eval loss 0.7233320474624634\n",
                  "Epoch 60 train loss: 0.4369, eval loss 0.722655713558197\n",
                  "Epoch 61 train loss: 0.4325, eval loss 0.7219476699829102\n",
                  "Epoch 62 train loss: 0.4217, eval loss 0.72133868932724\n",
                  "Epoch 63 train loss: 0.4227, eval loss 0.7206782698631287\n",
                  "Epoch 64 train loss: 0.4283, eval loss 0.7200538516044617\n",
                  "Epoch 65 train loss: 0.4026, eval loss 0.7194895148277283\n",
                  "Epoch 66 train loss: 0.4296, eval loss 0.7189128994941711\n",
                  "Epoch 67 train loss: 0.4125, eval loss 0.7182978391647339\n",
                  "Epoch 68 train loss: 0.4155, eval loss 0.717725932598114\n",
                  "Epoch 69 train loss: 0.4140, eval loss 0.7171875238418579\n",
                  "Epoch 70 train loss: 0.3923, eval loss 0.7166790962219238\n",
                  "Epoch 71 train loss: 0.4155, eval loss 0.7161633372306824\n",
                  "Epoch 72 train loss: 0.3981, eval loss 0.7156633734703064\n",
                  "Epoch 73 train loss: 0.4294, eval loss 0.715119481086731\n",
                  "Epoch 74 train loss: 0.4396, eval loss 0.7146948575973511\n",
                  "Epoch 75 train loss: 0.4102, eval loss 0.7142395973205566\n",
                  "Epoch 76 train loss: 0.4018, eval loss 0.7137842774391174\n",
                  "Epoch 77 train loss: 0.3870, eval loss 0.7133306264877319\n",
                  "Epoch 78 train loss: 0.4270, eval loss 0.7128742933273315\n",
                  "Epoch 79 train loss: 0.3864, eval loss 0.7125121355056763\n",
                  "Epoch 80 train loss: 0.4040, eval loss 0.712103545665741\n",
                  "Epoch 81 train loss: 0.3995, eval loss 0.7117469310760498\n",
                  "Epoch 82 train loss: 0.4008, eval loss 0.7114087343215942\n",
                  "Epoch 83 train loss: 0.4144, eval loss 0.7110201716423035\n",
                  "Epoch 84 train loss: 0.3852, eval loss 0.7107329368591309\n",
                  "Epoch 85 train loss: 0.4078, eval loss 0.7103949785232544\n",
                  "Epoch 86 train loss: 0.3826, eval loss 0.7101063132286072\n",
                  "Epoch 87 train loss: 0.4326, eval loss 0.7097529172897339\n",
                  "Epoch 88 train loss: 0.3938, eval loss 0.7094272375106812\n",
                  "Epoch 89 train loss: 0.3889, eval loss 0.7090945839881897\n",
                  "Epoch 90 train loss: 0.4300, eval loss 0.7087457776069641\n",
                  "Epoch 91 train loss: 0.4050, eval loss 0.7084522843360901\n",
                  "Epoch 92 train loss: 0.4170, eval loss 0.7081830501556396\n",
                  "Epoch 93 train loss: 0.3929, eval loss 0.7078762054443359\n",
                  "Epoch 94 train loss: 0.4238, eval loss 0.7076048254966736\n",
                  "Epoch 95 train loss: 0.4123, eval loss 0.7073191404342651\n",
                  "Epoch 96 train loss: 0.4260, eval loss 0.7071916460990906\n",
                  "Epoch 97 train loss: 0.3871, eval loss 0.706981897354126\n",
                  "Epoch 98 train loss: 0.3950, eval loss 0.706702470779419\n",
                  "Epoch 99 train loss: 0.4227, eval loss 0.7063977122306824\n",
                  "Epoch 100 train loss: 0.4028, eval loss 0.7061947584152222\n",
                  "Epoch 101 train loss: 0.4036, eval loss 0.7059879899024963\n",
                  "Epoch 102 train loss: 0.4113, eval loss 0.7057973742485046\n",
                  "Epoch 103 train loss: 0.4093, eval loss 0.7055937051773071\n",
                  "Epoch 104 train loss: 0.4073, eval loss 0.7054024338722229\n",
                  "Epoch 105 train loss: 0.4103, eval loss 0.7051919102668762\n",
                  "Epoch 106 train loss: 0.3978, eval loss 0.7050554156303406\n",
                  "Epoch 107 train loss: 0.4161, eval loss 0.7048657536506653\n",
                  "Epoch 108 train loss: 0.4217, eval loss 0.7046720385551453\n",
                  "Epoch 109 train loss: 0.3429, eval loss 0.704564094543457\n",
                  "Epoch 110 train loss: 0.4042, eval loss 0.7044098973274231\n",
                  "Epoch 111 train loss: 0.4244, eval loss 0.7042384743690491\n",
                  "Epoch 112 train loss: 0.4054, eval loss 0.7040482759475708\n",
                  "Epoch 113 train loss: 0.3888, eval loss 0.7039494514465332\n",
                  "Epoch 114 train loss: 0.4085, eval loss 0.7038207650184631\n",
                  "Epoch 115 train loss: 0.4092, eval loss 0.7036624550819397\n",
                  "Epoch 116 train loss: 0.4035, eval loss 0.703545331954956\n",
                  "Epoch 117 train loss: 0.4008, eval loss 0.7033851146697998\n",
                  "Epoch 118 train loss: 0.3987, eval loss 0.7032465934753418\n",
                  "Epoch 119 train loss: 0.3616, eval loss 0.7031564116477966\n",
                  "Epoch 120 train loss: 0.3889, eval loss 0.7030539512634277\n",
                  "Epoch 121 train loss: 0.3643, eval loss 0.7028842568397522\n",
                  "Epoch 122 train loss: 0.3775, eval loss 0.7027794122695923\n",
                  "Epoch 123 train loss: 0.4040, eval loss 0.7026558518409729\n",
                  "Epoch 124 train loss: 0.3780, eval loss 0.7025209069252014\n",
                  "Epoch 125 train loss: 0.4206, eval loss 0.7024181485176086\n",
                  "Epoch 126 train loss: 0.3763, eval loss 0.7023091912269592\n",
                  "Epoch 127 train loss: 0.4110, eval loss 0.7021677494049072\n",
                  "Epoch 128 train loss: 0.3836, eval loss 0.70211261510849\n",
                  "Epoch 129 train loss: 0.3818, eval loss 0.7019695043563843\n",
                  "Epoch 130 train loss: 0.3888, eval loss 0.7018011212348938\n",
                  "Epoch 131 train loss: 0.3977, eval loss 0.7017160058021545\n",
                  "Epoch 132 train loss: 0.3658, eval loss 0.701662003993988\n",
                  "Epoch 133 train loss: 0.3638, eval loss 0.7015537023544312\n",
                  "Epoch 134 train loss: 0.3785, eval loss 0.7014047503471375\n",
                  "Epoch 135 train loss: 0.3925, eval loss 0.7012875080108643\n",
                  "Epoch 136 train loss: 0.4066, eval loss 0.7011383175849915\n",
                  "Epoch 137 train loss: 0.4234, eval loss 0.7009994983673096\n",
                  "Epoch 138 train loss: 0.3989, eval loss 0.7009098529815674\n",
                  "Epoch 139 train loss: 0.3815, eval loss 0.7008152604103088\n",
                  "Epoch 140 train loss: 0.3811, eval loss 0.700766921043396\n",
                  "Epoch 141 train loss: 0.4155, eval loss 0.7007002830505371\n",
                  "Epoch 142 train loss: 0.3844, eval loss 0.70062255859375\n",
                  "Epoch 143 train loss: 0.3706, eval loss 0.7005537152290344\n",
                  "Epoch 144 train loss: 0.3884, eval loss 0.7005217671394348\n",
                  "Epoch 145 train loss: 0.3977, eval loss 0.7004194259643555\n",
                  "Epoch 146 train loss: 0.3633, eval loss 0.7003648281097412\n",
                  "Epoch 147 train loss: 0.3538, eval loss 0.7002495527267456\n",
                  "Epoch 148 train loss: 0.3756, eval loss 0.7001667022705078\n",
                  "Epoch 149 train loss: 0.3610, eval loss 0.7000533938407898\n",
                  "Epoch 150 train loss: 0.4117, eval loss 0.7000245451927185\n",
                  "Epoch 151 train loss: 0.3971, eval loss 0.6999839544296265\n",
                  "Epoch 152 train loss: 0.4020, eval loss 0.6997975707054138\n",
                  "Epoch 153 train loss: 0.3755, eval loss 0.6997655630111694\n",
                  "Epoch 154 train loss: 0.3901, eval loss 0.6997178792953491\n",
                  "Epoch 155 train loss: 0.3887, eval loss 0.69964200258255\n",
                  "Epoch 156 train loss: 0.3909, eval loss 0.6995183825492859\n",
                  "Epoch 157 train loss: 0.4027, eval loss 0.6994958519935608\n",
                  "Epoch 158 train loss: 0.3919, eval loss 0.6993612051010132\n",
                  "Epoch 159 train loss: 0.3876, eval loss 0.6993035674095154\n",
                  "Epoch 160 train loss: 0.3690, eval loss 0.6991488933563232\n",
                  "Epoch 161 train loss: 0.3851, eval loss 0.6991115212440491\n",
                  "Epoch 162 train loss: 0.3889, eval loss 0.699058473110199\n",
                  "Epoch 163 train loss: 0.3581, eval loss 0.6990168690681458\n",
                  "Epoch 164 train loss: 0.3735, eval loss 0.6989049911499023\n",
                  "Epoch 165 train loss: 0.3845, eval loss 0.6988754272460938\n",
                  "Epoch 166 train loss: 0.3921, eval loss 0.698775053024292\n",
                  "Epoch 167 train loss: 0.3955, eval loss 0.6986976861953735\n",
                  "Epoch 168 train loss: 0.4048, eval loss 0.6986691951751709\n",
                  "Epoch 169 train loss: 0.3954, eval loss 0.698591411113739\n",
                  "Epoch 170 train loss: 0.3537, eval loss 0.698538601398468\n",
                  "Epoch 171 train loss: 0.3774, eval loss 0.6985027194023132\n",
                  "Epoch 172 train loss: 0.3639, eval loss 0.6984763145446777\n",
                  "Epoch 173 train loss: 0.4003, eval loss 0.6983584761619568\n",
                  "Epoch 174 train loss: 0.3355, eval loss 0.6982873678207397\n",
                  "Epoch 175 train loss: 0.3854, eval loss 0.698271632194519\n",
                  "Epoch 176 train loss: 0.4029, eval loss 0.6981843113899231\n",
                  "Epoch 177 train loss: 0.3633, eval loss 0.6981009244918823\n",
                  "Epoch 178 train loss: 0.3555, eval loss 0.6980315446853638\n",
                  "Epoch 179 train loss: 0.3897, eval loss 0.6979619264602661\n",
                  "Epoch 180 train loss: 0.3606, eval loss 0.6978837251663208\n",
                  "Epoch 181 train loss: 0.3644, eval loss 0.6979278326034546\n",
                  "Epoch 182 train loss: 0.3667, eval loss 0.6977890133857727\n",
                  "Epoch 183 train loss: 0.3927, eval loss 0.6977359652519226\n",
                  "Epoch 184 train loss: 0.3607, eval loss 0.69768887758255\n",
                  "Epoch 185 train loss: 0.3914, eval loss 0.6976873278617859\n",
                  "Epoch 186 train loss: 0.3744, eval loss 0.6976025104522705\n",
                  "Epoch 187 train loss: 0.3979, eval loss 0.6975345611572266\n",
                  "Epoch 188 train loss: 0.3957, eval loss 0.6974998116493225\n",
                  "Epoch 189 train loss: 0.3802, eval loss 0.6974502801895142\n",
                  "Epoch 190 train loss: 0.3688, eval loss 0.6974149942398071\n",
                  "Epoch 191 train loss: 0.3487, eval loss 0.697363018989563\n",
                  "Epoch 192 train loss: 0.3705, eval loss 0.697330117225647\n",
                  "Epoch 193 train loss: 0.3491, eval loss 0.6972523331642151\n",
                  "Epoch 194 train loss: 0.3867, eval loss 0.6971626877784729\n",
                  "Epoch 195 train loss: 0.3548, eval loss 0.697143018245697\n",
                  "Epoch 196 train loss: 0.3620, eval loss 0.6970592141151428\n",
                  "Epoch 197 train loss: 0.3898, eval loss 0.6970005631446838\n",
                  "Epoch 198 train loss: 0.3914, eval loss 0.6969447731971741\n",
                  "Epoch 199 train loss: 0.3709, eval loss 0.696848452091217\n",
                  "Epoch 200 train loss: 0.3676, eval loss 0.6968386173248291\n",
                  "Epoch 201 train loss: 0.3807, eval loss 0.6968386173248291\n",
                  "Epoch 202 train loss: 0.3971, eval loss 0.6967957615852356\n",
                  "Epoch 203 train loss: 0.3718, eval loss 0.6967476606369019\n",
                  "Epoch 204 train loss: 0.4086, eval loss 0.6966686844825745\n",
                  "Epoch 205 train loss: 0.3430, eval loss 0.6966274976730347\n",
                  "Epoch 206 train loss: 0.3741, eval loss 0.6965033411979675\n",
                  "Epoch 207 train loss: 0.3814, eval loss 0.6963656544685364\n",
                  "Epoch 208 train loss: 0.3674, eval loss 0.6963034868240356\n",
                  "Epoch 209 train loss: 0.3887, eval loss 0.6963261961936951\n",
                  "Epoch 210 train loss: 0.3768, eval loss 0.6963623762130737\n",
                  "Epoch 211 train loss: 0.3985, eval loss 0.6963725686073303\n",
                  "Epoch 212 train loss: 0.3640, eval loss 0.6962532997131348\n",
                  "Epoch 213 train loss: 0.3514, eval loss 0.6962108612060547\n",
                  "Epoch 214 train loss: 0.3630, eval loss 0.6962038278579712\n",
                  "Epoch 215 train loss: 0.4239, eval loss 0.6960912942886353\n",
                  "Epoch 216 train loss: 0.3666, eval loss 0.6960729360580444\n",
                  "Epoch 217 train loss: 0.3697, eval loss 0.6960933804512024\n",
                  "Epoch 218 train loss: 0.4066, eval loss 0.6960331797599792\n",
                  "Epoch 219 train loss: 0.3589, eval loss 0.6960209012031555\n",
                  "Epoch 220 train loss: 0.4214, eval loss 0.6959460973739624\n",
                  "Epoch 221 train loss: 0.3742, eval loss 0.6958896517753601\n",
                  "Epoch 222 train loss: 0.3666, eval loss 0.6957949995994568\n",
                  "Epoch 223 train loss: 0.3913, eval loss 0.6957557797431946\n",
                  "Epoch 224 train loss: 0.3671, eval loss 0.6957209706306458\n",
                  "Epoch 225 train loss: 0.3885, eval loss 0.6957412958145142\n",
                  "Epoch 226 train loss: 0.3607, eval loss 0.6957224607467651\n",
                  "Epoch 227 train loss: 0.3548, eval loss 0.6956643462181091\n",
                  "Epoch 228 train loss: 0.3814, eval loss 0.6955937147140503\n",
                  "Epoch 229 train loss: 0.3452, eval loss 0.6955083608627319\n",
                  "Epoch 230 train loss: 0.3627, eval loss 0.6954473853111267\n",
                  "Epoch 231 train loss: 0.3952, eval loss 0.6954264044761658\n",
                  "Epoch 232 train loss: 0.3654, eval loss 0.6954533457756042\n",
                  "Epoch 233 train loss: 0.3637, eval loss 0.6953798532485962\n",
                  "Epoch 234 train loss: 0.3608, eval loss 0.6953335404396057\n",
                  "Epoch 235 train loss: 0.3865, eval loss 0.695276141166687\n",
                  "Epoch 236 train loss: 0.3923, eval loss 0.695271909236908\n",
                  "Epoch 237 train loss: 0.3556, eval loss 0.695181667804718\n",
                  "Epoch 238 train loss: 0.4009, eval loss 0.6951857209205627\n",
                  "Epoch 239 train loss: 0.3845, eval loss 0.6950904130935669\n",
                  "Epoch 240 train loss: 0.3678, eval loss 0.695060670375824\n",
                  "Epoch 241 train loss: 0.3524, eval loss 0.6950408816337585\n",
                  "Epoch 242 train loss: 0.3956, eval loss 0.6950395107269287\n",
                  "Epoch 243 train loss: 0.3527, eval loss 0.694875180721283\n",
                  "Epoch 244 train loss: 0.3704, eval loss 0.6948171257972717\n",
                  "Epoch 245 train loss: 0.3899, eval loss 0.6948366165161133\n",
                  "Epoch 246 train loss: 0.3637, eval loss 0.6947754621505737\n",
                  "Epoch 247 train loss: 0.3701, eval loss 0.694762110710144\n",
                  "Epoch 248 train loss: 0.3604, eval loss 0.6946762204170227\n",
                  "Epoch 249 train loss: 0.3716, eval loss 0.6946283578872681\n",
                  "Epoch 250 train loss: 0.3485, eval loss 0.6945756077766418\n",
                  "Epoch 251 train loss: 0.3933, eval loss 0.6945902109146118\n",
                  "Epoch 252 train loss: 0.3736, eval loss 0.6945889592170715\n",
                  "Epoch 253 train loss: 0.4078, eval loss 0.6945459246635437\n",
                  "Epoch 254 train loss: 0.3772, eval loss 0.6945160031318665\n",
                  "Epoch 255 train loss: 0.3563, eval loss 0.6944714784622192\n",
                  "Epoch 256 train loss: 0.3826, eval loss 0.6945281028747559\n",
                  "Epoch 257 train loss: 0.3564, eval loss 0.694468080997467\n",
                  "Epoch 258 train loss: 0.3674, eval loss 0.694400429725647\n",
                  "Epoch 259 train loss: 0.3801, eval loss 0.6944028735160828\n",
                  "Epoch 260 train loss: 0.3604, eval loss 0.6943492293357849\n",
                  "Epoch 261 train loss: 0.3734, eval loss 0.6942964196205139\n",
                  "Epoch 262 train loss: 0.3747, eval loss 0.6942433714866638\n",
                  "Epoch 263 train loss: 0.3584, eval loss 0.6942040920257568\n",
                  "Epoch 264 train loss: 0.3833, eval loss 0.694194495677948\n",
                  "Epoch 265 train loss: 0.3556, eval loss 0.6941857933998108\n",
                  "Epoch 266 train loss: 0.3896, eval loss 0.6942233443260193\n",
                  "Epoch 267 train loss: 0.3561, eval loss 0.6941729784011841\n",
                  "Epoch 268 train loss: 0.4012, eval loss 0.6941074132919312\n",
                  "Epoch 269 train loss: 0.3572, eval loss 0.6940749287605286\n",
                  "Epoch 270 train loss: 0.3587, eval loss 0.6940757036209106\n",
                  "Epoch 271 train loss: 0.3607, eval loss 0.6939740180969238\n",
                  "Epoch 272 train loss: 0.3813, eval loss 0.6939032077789307\n",
                  "Epoch 273 train loss: 0.3840, eval loss 0.6939370632171631\n",
                  "Epoch 274 train loss: 0.3547, eval loss 0.6939433217048645\n",
                  "Epoch 275 train loss: 0.3589, eval loss 0.6939527988433838\n"
               ]
            }
         ],
         "source": [
            "model = RegularizedMLP(\n",
            "    input_size=X_train.shape[1], \n",
            "    dropout_p=dropout_p\n",
            ")\n",
            "optimizer = torch.optim.SGD(\n",
            "    model.parameters(), \n",
            "    lr=learning_rate, \n",
            "    weight_decay=l2_reg\n",
            ")\n",
            "loss_fn = torch.nn.BCEWithLogitsLoss()\n",
            "\n",
            "train_dataset = MyDataset(X_train, y_train)\n",
            "train_dataloader = DataLoader(train_dataset, batch_size=batch_size)\n",
            "\n",
            "steps_without_improvement = 0\n",
            "\n",
            "best_val_loss = np.inf\n",
            "best_model = None\n",
            "best_threshold = None\n",
            "\n",
            "for epoch_num in range(max_epochs):\n",
            "    model.train()\n",
            "    \n",
            "    # note that we are using DataLoader to get batches\n",
            "    for X_batch, y_batch in train_dataloader:\n",
            "        # model training\n",
            "        # implement me!\n",
            "        # your_code\n",
            "        y_pred = model(X_batch)\n",
            "        loss = loss_fn(y_pred, y_batch)\n",
            "        loss.backward()\n",
            "        optimizer.step()\n",
            "        optimizer.zero_grad()\n",
            "\n",
            "    # model evaluation, early stopping\n",
            "    # implement me!\n",
            "    # your_code\n",
            "    valid_metrics = evaluate_model(model, X_valid, y_valid, loss_fn)\n",
            "    if valid_metrics['loss'] < best_val_loss:\n",
            "        best_model = deepcopy(model)\n",
            "        best_val_loss = valid_metrics['loss']\n",
            "        steps_without_improvement = 0\n",
            "    else:\n",
            "        steps_without_improvement += 1\n",
            "        if steps_without_improvement == early_stopping_patience:\n",
            "            break\n",
            "    \n",
            "    print(f\"Epoch {epoch_num} train loss: {loss.item():.4f}, eval loss {valid_metrics['loss']}\")\n"
         ]
      },
      {
         "cell_type": "code",
         "execution_count": 37,
         "metadata": {},
         "outputs": [
            {
               "name": "stdout",
               "output_type": "stream",
               "text": [
                  "AUROC: 90.06%\n",
                  "F1: 68.72%\n",
                  "Precision: 63.19%\n",
                  "Recall: 75.32%\n"
               ]
            }
         ],
         "source": [
            "test_metrics = evaluate_model(best_model, X_test, y_test, loss_fn, best_threshold)\n",
            "\n",
            "print(f\"AUROC: {100 * test_metrics['AUROC']:.2f}%\")\n",
            "print(f\"F1: {100 * test_metrics['F1-score']:.2f}%\")\n",
            "print(f\"Precision: {100 * test_metrics['precision']:.2f}%\")\n",
            "print(f\"Recall: {100 * test_metrics['recall']:.2f}%\")"
         ]
      },
      {
         "cell_type": "markdown",
         "metadata": {},
         "source": [
            "Wyniki wyglądają już dużo lepiej.\n",
            "\n",
            "Na koniec laboratorium dołożymy do naszego modelu jeszcze 3 powrzechnie używane techniki, które są bardzo proste, a pozwalają często ulepszyć wynik modelu.\n",
            "\n",
            "Pierwszą z nich są **warstwy normalizacji (normalization layers)**. Powstały one początkowo z założeniem, że przez przekształcenia przestrzeni dokonywane przez sieć zmienia się rozkład prawdopodobieństw pomiędzy warstwami, czyli tzw. *internal covariate shift*. Później okazało się, że zastosowanie takiej normalizacji wygładza powierzchnię funkcji kosztu, co ułatwia i przyspiesza optymalizację. Najpowszechniej używaną normalizacją jest **batch normalization (batch norm)**.\n",
            "\n",
            "Drugim ulepszeniem jest dodanie **wag klas (class weights)**. Mamy do czynienia z problemem klasyfikacji niezbalansowanej, więc klasa mniejszościowa, ważniejsza dla nas, powinna dostać większą wagę. Implementuje się to trywialnie prosto - po prostu mnożymy wartość funkcji kosztu dla danego przykładu przez wagę dla prawdziwej klasy tego przykładu. Praktycznie każdy klasyfikator operujący na jakiejś ważonej funkcji może działać w ten sposób, nie tylko sieci neuronowe.\n",
            "\n",
            "Ostatnim ulepszeniem jest zamiana SGD na optymalizator Adam, a konkretnie na optymalizator `AdamW`. Jest to przykład **optymalizatora adaptacyjnego (adaptive optimizer)**, który potrafi zaadaptować stałą uczącą dla każdego parametru z osobna w trakcie treningu. Wykorzystuje do tego gradienty - w uproszczeniu, im większa wariancja gradientu, tym mniejsze kroki w tym kierunku robimy."
         ]
      },
      {
         "cell_type": "markdown",
         "metadata": {},
         "source": [
            "#### Zadanie 8 (0.5 punktu)\n",
            "\n",
            "Zaimplementuj model `NormalizingMLP`, o takiej samej strukturze jak `RegularizedMLP`, ale dodatkowo z warstwami `BatchNorm1d` pomiędzy warstwami `Linear` oraz `ReLU`.\n",
            "\n",
            "Za pomocą funkcji `compute_class_weight()` oblicz wagi dla poszczególnych klas. Użyj opcji `\"balanced\"`. Przekaż do funkcji kosztu wagę klasy pozytywnej (pamiętaj, aby zamienić ją na tensor).\n",
            "\n",
            "Zamień używany optymalizator na `AdamW`.\n",
            "\n",
            "Na koniec skopiuj resztę kodu do treningu z poprzedniego zadania, wytrenuj sieć i oblicz wyniki na zbiorze testowym."
         ]
      },
      {
         "cell_type": "code",
         "execution_count": 38,
         "metadata": {},
         "outputs": [],
         "source": [
            "from sklearn.utils.class_weight import compute_class_weight\n",
            "\n",
            "class NormalizingMLP(nn.Module):\n",
            "    def __init__(self, input_size: int, dropout_p: float = 0.5):\n",
            "        super().__init__()\n",
            "\n",
            "        # implement me!\n",
            "        # your_code\n",
            "        self.mlp = nn.Sequential(\n",
            "            nn.Linear(input_size, 256),\n",
            "            nn.BatchNorm1d(256),\n",
            "            nn.ReLU(),\n",
            "            nn.Dropout(dropout_p),\n",
            "            nn.Linear(256, 128),\n",
            "            nn.BatchNorm1d(128),\n",
            "            nn.ReLU(),\n",
            "            nn.Dropout(dropout_p),\n",
            "            nn.Linear(128, 1)\n",
            "        )\n",
            "\n",
            "        class_weights = compute_class_weight(class_weight='balanced', classes=np.unique(y_train), y=np.ravel(y_train))\n",
            "        positive_weight = class_weights[1]  \n",
            "        self.positive_weight = torch.tensor(positive_weight, dtype=torch.float32)  \n",
            "    \n",
            "    def forward(self, x):\n",
            "        return self.mlp(x)\n",
            "\n",
            "    def predict_proba(self, x):\n",
            "        return sigmoid(self(x))\n",
            "    \n",
            "    def predict(self, x, threshold: float = 0.5):\n",
            "        y_pred_score = self.predict_proba(x)\n",
            "        return (y_pred_score > threshold).to(torch.int32)\n"
         ]
      },
      {
         "cell_type": "code",
         "execution_count": 39,
         "metadata": {},
         "outputs": [],
         "source": [
            "# define all the hyperparameters\n",
            "# your_code\n",
            "learning_rate = 1e-3\n",
            "dropout_p = 0.5\n",
            "l2_reg = 1e-4\n",
            "batch_size = 128\n",
            "max_epochs = 300\n",
            "\n",
            "early_stopping_patience = 4"
         ]
      },
      {
         "cell_type": "code",
         "execution_count": 40,
         "metadata": {
            "scrolled": true
         },
         "outputs": [
            {
               "name": "stdout",
               "output_type": "stream",
               "text": [
                  "Epoch 0 train loss: 0.6109, eval loss 0.8217966556549072\n",
                  "Epoch 1 train loss: 0.5281, eval loss 0.8185573816299438\n",
                  "Epoch 2 train loss: 0.5308, eval loss 0.8160108327865601\n",
                  "Epoch 3 train loss: 0.5019, eval loss 0.8141965866088867\n",
                  "Epoch 4 train loss: 0.4958, eval loss 0.8131253123283386\n",
                  "Epoch 5 train loss: 0.5630, eval loss 0.8120014071464539\n",
                  "Epoch 6 train loss: 0.5851, eval loss 0.8136468529701233\n",
                  "Epoch 7 train loss: 0.5257, eval loss 0.8117823004722595\n",
                  "Epoch 8 train loss: 0.5449, eval loss 0.8105835318565369\n",
                  "Epoch 9 train loss: 0.6587, eval loss 0.8105956315994263\n",
                  "Epoch 10 train loss: 0.6059, eval loss 0.8114610910415649\n",
                  "Epoch 11 train loss: 0.4984, eval loss 0.8111599683761597\n",
                  "Epoch 12 train loss: 0.5256, eval loss 0.8103926181793213\n",
                  "Epoch 13 train loss: 0.5224, eval loss 0.8096383810043335\n",
                  "Epoch 14 train loss: 0.5033, eval loss 0.8092920780181885\n",
                  "Epoch 15 train loss: 0.5282, eval loss 0.8091301321983337\n",
                  "Epoch 16 train loss: 0.4981, eval loss 0.8093319535255432\n",
                  "Epoch 17 train loss: 0.5261, eval loss 0.8092872500419617\n",
                  "Epoch 18 train loss: 0.4805, eval loss 0.80828458070755\n",
                  "Epoch 19 train loss: 0.4918, eval loss 0.8090638518333435\n",
                  "Epoch 20 train loss: 0.4592, eval loss 0.8091738820075989\n",
                  "Epoch 21 train loss: 0.4536, eval loss 0.8088074326515198\n",
                  "Early stopping - epoch 22\n"
               ]
            }
         ],
         "source": [
            "# training loop\n",
            "# your_code\n",
            "\n",
            "model = NormalizingMLP(\n",
            "    input_size=X_train.shape[1], \n",
            "    dropout_p=dropout_p\n",
            ")\n",
            "optimizer = torch.optim.AdamW(\n",
            "    model.parameters(), \n",
            "    lr=learning_rate, \n",
            "    weight_decay=l2_reg\n",
            ")\n",
            "loss_fn = torch.nn.BCEWithLogitsLoss(pos_weight=model.positive_weight)\n",
            "\n",
            "train_dataset = MyDataset(X_train, y_train)\n",
            "train_dataloader = DataLoader(train_dataset, batch_size=batch_size)\n",
            "\n",
            "steps_without_improvement = 0\n",
            "\n",
            "best_val_loss = np.inf\n",
            "best_model = None\n",
            "best_threshold = None\n",
            "\n",
            "for epoch_num in range(max_epochs):\n",
            "    model.train()\n",
            "    \n",
            "    # note that we are using DataLoader to get batches\n",
            "    for X_batch, y_batch in train_dataloader:\n",
            "        # model training\n",
            "        # implement me!\n",
            "        # your_code\n",
            "        y_pred = model(X_batch)\n",
            "        loss = loss_fn(y_pred, y_batch)\n",
            "        loss.backward()\n",
            "        optimizer.step()\n",
            "        optimizer.zero_grad()\n",
            "    \n",
            "    # model evaluation, early stopping\n",
            "    # implement me!\n",
            "    # your_code\n",
            "    valid_metrics = evaluate_model(model, X_valid, y_valid, loss_fn)\n",
            "    if valid_metrics['loss'] < best_val_loss:\n",
            "        best_model = deepcopy(model)\n",
            "        best_val_loss = valid_metrics['loss']\n",
            "        steps_without_improvement = 0\n",
            "    else:\n",
            "        steps_without_improvement += 1\n",
            "        if steps_without_improvement == early_stopping_patience:\n",
            "            print(f\"Early stopping - epoch {epoch_num}\")\n",
            "            break\n",
            "    \n",
            "    print(f\"Epoch {epoch_num} train loss: {loss.item():.4f}, eval loss {valid_metrics['loss']}\")\n",
            "\n"
         ]
      },
      {
         "cell_type": "code",
         "execution_count": 41,
         "metadata": {
            "scrolled": true
         },
         "outputs": [
            {
               "name": "stdout",
               "output_type": "stream",
               "text": [
                  "AUROC: 90.76%\n",
                  "F1: 69.88%\n",
                  "Precision: 63.55%\n",
                  "Recall: 77.61%\n"
               ]
            }
         ],
         "source": [
            "test_metrics = evaluate_model(best_model, X_test, y_test, loss_fn, best_threshold)\n",
            "\n",
            "print(f\"AUROC: {100 * test_metrics['AUROC']:.2f}%\")\n",
            "print(f\"F1: {100 * test_metrics['F1-score']:.2f}%\")\n",
            "print(f\"Precision: {100 * test_metrics['precision']:.2f}%\")\n",
            "print(f\"Recall: {100 * test_metrics['recall']:.2f}%\")"
         ]
      },
      {
         "cell_type": "markdown",
         "metadata": {
            "id": "XyoRnHT4GFR9"
         },
         "source": [
            "## Akceleracja sprzętowa (dla zainteresowanych)"
         ]
      },
      {
         "cell_type": "markdown",
         "metadata": {},
         "source": [
            "Jak wcześniej wspominaliśmy, użycie akceleracji sprzętowej, czyli po prostu GPU do obliczeń, jest bardzo efektywne w przypadku sieci neuronowych. Karty graficzne bardzo efektywnie mnożą macierze, a sieci neuronowe to, jak można było się przekonać, dużo mnożenia macierzy.\n",
            "\n",
            "W PyTorchu jest to dosyć łatwe, ale trzeba robić to explicite. Służy do tego metoda `.to()`, która przenosi tensory między CPU i GPU. Poniżej przykład, jak to się robi (oczywiście trzeba mieć skonfigurowane GPU, żeby działało):"
         ]
      },
      {
         "cell_type": "code",
         "execution_count": 42,
         "metadata": {},
         "outputs": [
            {
               "name": "stdout",
               "output_type": "stream",
               "text": [
                  "Epoch 0 train loss: 0.9591, time: 0.30518460273742676\n",
                  "Epoch 1 train loss: 0.4565, time: 1.5021021366119385\n",
                  "Epoch 2 train loss: 0.5087, time: 2.141251802444458\n",
                  "Epoch 3 train loss: 0.3887, time: 2.4329800605773926\n",
                  "Epoch 4 train loss: 0.6191, time: 1.1658718585968018\n",
                  "Epoch 6 train loss: 0.3508, time: 1.1918785572052002\n",
                  "Epoch 7 train loss: 0.3924, time: 2.4478492736816406\n",
                  "Epoch 8 train loss: 0.4655, time: 1.6327166557312012\n",
                  "Epoch 9 train loss: 0.5278, time: 2.255716323852539\n",
                  "Epoch 11 train loss: 0.4800, time: 1.386141300201416\n",
                  "Epoch 12 train loss: 0.4183, time: 1.155005931854248\n",
                  "Epoch 13 train loss: 0.5257, time: 1.1762847900390625\n",
                  "Epoch 14 train loss: 0.3640, time: 2.1864500045776367\n",
                  "Epoch 15 train loss: 0.4373, time: 1.6282572746276855\n",
                  "Epoch 17 train loss: 0.3437, time: 2.1943910121917725\n",
                  "Epoch 18 train loss: 0.4669, time: 1.7677533626556396\n",
                  "Epoch 19 train loss: 0.4228, time: 1.3075792789459229\n",
                  "Epoch 20 train loss: 0.3711, time: 1.1993272304534912\n",
                  "Epoch 22 train loss: 0.4837, time: 2.115997314453125\n",
                  "Epoch 23 train loss: 0.4190, time: 1.7201902866363525\n",
                  "Epoch 24 train loss: 0.3973, time: 2.1102678775787354\n",
                  "Epoch 25 train loss: 0.4778, time: 1.4062237739562988\n",
                  "Epoch 26 train loss: 0.4943, time: 1.187920331954956\n",
                  "Epoch 28 train loss: 0.5979, time: 1.997558355331421\n",
                  "Epoch 29 train loss: 0.5508, time: 1.1462624073028564\n",
                  "AUROC: 90.33%\n",
                  "F1: 69.23%\n",
                  "{'loss': 0.8086740970611572, 'AUROC': 0.9033106518643859, 'precision': 0.6289734236581553, 'recall': 0.7697704081632653, 'F1-score': 0.6922856323487238}\n"
               ]
            }
         ],
         "source": [
            "import time \n",
            "\n",
            "\n",
            "class CudaMLP(nn.Module):\n",
            "    def __init__(self, input_size: int, dropout_p: float = 0.5):\n",
            "        super().__init__()\n",
            "\n",
            "        self.mlp = nn.Sequential(\n",
            "            nn.Linear(input_size, 512),\n",
            "            nn.BatchNorm1d(512),\n",
            "            nn.ReLU(),\n",
            "            nn.Dropout(dropout_p),\n",
            "            nn.Linear(512, 256),\n",
            "            nn.BatchNorm1d(256),\n",
            "            nn.ReLU(),\n",
            "            nn.Dropout(dropout_p),\n",
            "            nn.Linear(256, 256),\n",
            "            nn.BatchNorm1d(256),\n",
            "            nn.ReLU(),\n",
            "            nn.Dropout(dropout_p),\n",
            "            nn.Linear(256, 128),\n",
            "            nn.BatchNorm1d(128),\n",
            "            nn.ReLU(),\n",
            "            nn.Dropout(dropout_p),\n",
            "            nn.Linear(128, 1),\n",
            "        )\n",
            "    \n",
            "    def forward(self, x):\n",
            "        return self.mlp(x)\n",
            "\n",
            "    def predict_proba(self, x):\n",
            "        return sigmoid(self(x))\n",
            "    \n",
            "    def predict(self, x, threshold: float = 0.5):\n",
            "        y_pred_score = self.predict_proba(x)\n",
            "        return (y_pred_score > threshold).to(torch.int32)\n",
            "\n",
            "# dodane\n",
            "weights = compute_class_weight(class_weight='balanced', classes=np.unique(y_train), y=np.ravel(y_train))\n",
            "\n",
            "model = CudaMLP(X_train.shape[1]).to('cuda')\n",
            "\n",
            "optimizer = torch.optim.AdamW(model.parameters(), lr=learning_rate, weight_decay=1e-4)\n",
            "\n",
            "# note that we are using loss function with sigmoid built in\n",
            "loss_fn = torch.nn.BCEWithLogitsLoss(pos_weight=torch.from_numpy(weights)[1].to('cuda'))\n",
            "\n",
            "step_counter = 0\n",
            "time_from_eval = time.time()\n",
            "for epoch_id in range(30):\n",
            "    for batch_x, batch_y in train_dataloader:\n",
            "        batch_x = batch_x.to('cuda')\n",
            "        batch_y = batch_y.to('cuda')\n",
            "        \n",
            "        loss = loss_fn(model(batch_x), batch_y)\n",
            "        loss.backward()\n",
            "\n",
            "        optimizer.step()\n",
            "        optimizer.zero_grad()\n",
            "        \n",
            "        if step_counter % evaluation_steps == 0:\n",
            "            print(f\"Epoch {epoch_id} train loss: {loss.item():.4f}, time: {time.time() - time_from_eval}\")\n",
            "            time_from_eval = time.time()\n",
            "\n",
            "        step_counter += 1\n",
            "\n",
            "test_res = evaluate_model(model.to('cpu'), X_test, y_test, loss_fn.to('cpu'), threshold=0.5)\n",
            "\n",
            "print(f\"AUROC: {100 * test_res['AUROC']:.2f}%\")\n",
            "print(f\"F1: {100 * test_res['F1-score']:.2f}%\")\n",
            "print(test_res)"
         ]
      },
      {
         "cell_type": "markdown",
         "metadata": {},
         "source": [
            "Co prawda ten model nie będzie tak dobry jak ten z laboratorium, ale zwróć uwagę, o ile jest większy, a przy tym szybszy.\n",
            "\n",
            "Dla zainteresowanych polecamy [tę serie artykułów](https://medium.com/@adi.fu7/ai-accelerators-part-i-intro-822c2cdb4ca4)"
         ]
      },
      {
         "cell_type": "markdown",
         "metadata": {},
         "source": [
            "## Zadanie dla chętnych"
         ]
      },
      {
         "cell_type": "markdown",
         "metadata": {},
         "source": [
            "Jak widzieliśmy, sieci neuronowe mają bardzo dużo hiperparametrów. Przeszukiwanie ich grid search'em jest więc niewykonalne, a chociaż random search by działał, to potrzebowałby wielu iteracji, co też jest kosztowne obliczeniowo.\n",
            "\n",
            "Zaimplementuj inteligentne przeszukiwanie przestrzeni hiperparametrów za pomocą biblioteki [Optuna](https://optuna.org/). Implementuje ona między innymi algorytm Tree Parzen Estimator (TPE), należący do grupy algorytmów typu Bayesian search. Typowo osiągają one bardzo dobre wyniki, a właściwie zawsze lepsze od przeszukiwania losowego. Do tego wystarcza im często niewielka liczba kroków.\n",
            "\n",
            "Zaimplementuj 3-warstwową sieć MLP, gdzie pierwsza warstwa ma rozmiar ukryty N, a druga N // 2. Ucz ją optymalizatorem Adam przez maksymalnie 300 epok z cierpliwością 10.\n",
            "\n",
            "Przeszukaj wybrane zakresy dla hiperparametrów:\n",
            "- rozmiar warstw ukrytych (N)\n",
            "- stała ucząca\n",
            "- batch size\n",
            "- siła regularyzacji L2\n",
            "- prawdopodobieństwo dropoutu\n",
            "\n",
            "Wykorzystaj przynajmniej 30 iteracji. Następnie przełącz algorytm na losowy (Optuna także jego implementuje), wykonaj 30 iteracji i porównaj jakość wyników.\n",
            "\n",
            "Przydatne materiały:\n",
            "- [Optuna code examples - PyTorch](https://optuna.org/#code_examples)\n",
            "- [Auto-Tuning Hyperparameters with Optuna and PyTorch](https://www.youtube.com/watch?v=P6NwZVl8ttc)\n",
            "- [Hyperparameter Tuning of Neural Networks with Optuna and PyTorch](https://towardsdatascience.com/hyperparameter-tuning-of-neural-networks-with-optuna-and-pytorch-22e179efc837)\n",
            "- [Using Optuna to Optimize PyTorch Hyperparameters](https://medium.com/pytorch/using-optuna-to-optimize-pytorch-hyperparameters-990607385e36)"
         ]
      }
   ],
   "metadata": {
      "colab": {
         "collapsed_sections": [],
         "provenance": []
      },
      "kernelspec": {
         "display_name": "Python 3 (ipykernel)",
         "language": "python",
         "name": "python3"
      },
      "language_info": {
         "codemirror_mode": {
            "name": "ipython",
            "version": 3
         },
         "file_extension": ".py",
         "mimetype": "text/x-python",
         "name": "python",
         "nbconvert_exporter": "python",
         "pygments_lexer": "ipython3",
         "version": "3.10.6"
      },
      "vscode": {
         "interpreter": {
            "hash": "a5d7af91182035c53be6efb3f9b18ffc3e259c9c524705249407647c970de949"
         }
      }
   },
   "nbformat": 4,
   "nbformat_minor": 1
}
